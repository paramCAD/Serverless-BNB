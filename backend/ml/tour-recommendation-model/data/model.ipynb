{
 "cells": [
  {
   "cell_type": "code",
   "execution_count": 28,
   "id": "43d2267e-a270-4436-b7f4-d621c28cfbd5",
   "metadata": {},
   "outputs": [],
   "source": [
    "from sklearn.ensemble import RandomForestClassifier\n",
    "import pandas as pd"
   ]
  },
  {
   "cell_type": "code",
   "execution_count": 33,
   "id": "e47f8907-a82d-46ce-a8d8-38784a317628",
   "metadata": {},
   "outputs": [],
   "source": [
    "X_train = pd.read_csv(\"GROUP20_DATASET/FINAL_GROUP20_TOUR_PACKAGES_TRAIN_X.csv\")\n",
    "X_test = pd.read_csv(\"GROUP20_DATASET/FINAL_GROUP20_TOUR_PACKAGES_TEST_X.csv\")\n",
    "y_train = pd.read_csv(\"GROUP20_DATASET/FINAL_GROUP20_TOUR_PACKAGES_TRAIN_Y.csv\")\n",
    "y_test = pd.read_csv(\"GROUP20_DATASET/FINAL_GROUP20_TOUR_PACKAGES_TEST_Y.csv\")"
   ]
  },
  {
   "cell_type": "code",
   "execution_count": 34,
   "id": "5d1e3d01-78ff-4a6b-b273-a1b33f907ec4",
   "metadata": {},
   "outputs": [
    {
     "name": "stderr",
     "output_type": "stream",
     "text": [
      "/Users/bharatwaajshankar/Library/Python/3.8/lib/python/site-packages/sklearn/neural_network/_multilayer_perceptron.py:1118: DataConversionWarning: A column-vector y was passed when a 1d array was expected. Please change the shape of y to (n_samples, ), for example using ravel().\n",
      "  y = column_or_1d(y, warn=True)\n"
     ]
    }
   ],
   "source": [
    "clf = MLPClassifier(random_state=1, max_iter=500).fit(X_train.drop(['CUSTOMER_ID'], axis=1), y_train)"
   ]
  },
  {
   "cell_type": "code",
   "execution_count": 54,
   "id": "722d3dfe-95a0-4272-b84f-8d890ee826e7",
   "metadata": {},
   "outputs": [
    {
     "name": "stderr",
     "output_type": "stream",
     "text": [
      "<ipython-input-54-640d719dc0d4>:1: DataConversionWarning: A column-vector y was passed when a 1d array was expected. Please change the shape of y to (n_samples,), for example using ravel().\n",
      "  clf = RandomForestClassifier(max_depth=8, random_state=0).fit(X_train.drop(['CUSTOMER_ID'], axis=1), y_train)\n"
     ]
    }
   ],
   "source": [
    "clf = RandomForestClassifier(max_depth=8, random_state=0).fit(X_train.drop(['CUSTOMER_ID'], axis=1), y_train)"
   ]
  },
  {
   "cell_type": "code",
   "execution_count": 57,
   "id": "cb5ce15e-057d-46a3-b510-644b3117f05c",
   "metadata": {},
   "outputs": [
    {
     "data": {
      "text/plain": [
       "array([[5.33474262e-01, 3.57222196e-01, 8.66197183e-04, 1.05233235e-01,\n",
       "        3.20410952e-03],\n",
       "       [5.07551987e-01, 3.45376564e-01, 4.28678259e-04, 1.43933437e-01,\n",
       "        2.70933364e-03],\n",
       "       [3.60849327e-01, 4.28939493e-01, 5.13654207e-03, 1.82823824e-01,\n",
       "        2.22508137e-02],\n",
       "       ...,\n",
       "       [2.32683928e-01, 4.82610661e-01, 4.86083649e-02, 1.36769128e-01,\n",
       "        9.93279183e-02],\n",
       "       [1.52470410e-01, 6.11113993e-01, 3.87365331e-02, 1.08763031e-01,\n",
       "        8.89160332e-02],\n",
       "       [9.16565705e-01, 5.35941700e-02, 0.00000000e+00, 2.96215454e-02,\n",
       "        2.18579235e-04]])"
      ]
     },
     "execution_count": 57,
     "metadata": {},
     "output_type": "execute_result"
    }
   ],
   "source": [
    "clf.predict_proba(X_test.drop(['CUSTOMER_ID'], axis=1))"
   ]
  },
  {
   "cell_type": "code",
   "execution_count": 59,
   "id": "56025463-dac7-4726-bb69-485161250c45",
   "metadata": {},
   "outputs": [],
   "source": [
    "y_pred = clf.predict(X_test.drop(['CUSTOMER_ID'], axis=1))"
   ]
  },
  {
   "cell_type": "code",
   "execution_count": 60,
   "id": "968c869e-14c0-4a19-a062-11b59e951518",
   "metadata": {},
   "outputs": [],
   "source": [
    "from sklearn.metrics import classification_report"
   ]
  },
  {
   "cell_type": "code",
   "execution_count": 61,
   "id": "870ed622-f4fa-4b1b-a0b6-f85a49987efd",
   "metadata": {},
   "outputs": [
    {
     "name": "stdout",
     "output_type": "stream",
     "text": [
      "              precision    recall  f1-score   support\n",
      "\n",
      "       Basic       0.59      0.73      0.65       359\n",
      "      Deluxe       0.52      0.61      0.56       363\n",
      "        King       0.38      0.06      0.11        49\n",
      "    Standard       0.69      0.18      0.29       146\n",
      "Super Deluxe       0.55      0.48      0.51        61\n",
      "\n",
      "    accuracy                           0.56       978\n",
      "   macro avg       0.54      0.41      0.42       978\n",
      "weighted avg       0.56      0.56      0.53       978\n",
      "\n"
     ]
    }
   ],
   "source": [
    "print(classification_report(y_test, y_pred))"
   ]
  },
  {
   "cell_type": "code",
   "execution_count": 62,
   "id": "cb7a4b4a-62d8-43af-9431-205d6aa0da8b",
   "metadata": {},
   "outputs": [],
   "source": [
    "from joblib import dump, load"
   ]
  },
  {
   "cell_type": "code",
   "execution_count": 63,
   "id": "8bde0ade-e07f-449a-9b68-4aa83128d49b",
   "metadata": {},
   "outputs": [
    {
     "data": {
      "text/plain": [
       "['model/RF003.joblib']"
      ]
     },
     "execution_count": 63,
     "metadata": {},
     "output_type": "execute_result"
    }
   ],
   "source": [
    "dump(clf, 'model/RF003.joblib')"
   ]
  },
  {
   "cell_type": "code",
   "execution_count": 65,
   "id": "c658db08-ec92-48b3-a63b-d9271c46884b",
   "metadata": {},
   "outputs": [
    {
     "data": {
      "text/html": [
       "<div>\n",
       "<style scoped>\n",
       "    .dataframe tbody tr th:only-of-type {\n",
       "        vertical-align: middle;\n",
       "    }\n",
       "\n",
       "    .dataframe tbody tr th {\n",
       "        vertical-align: top;\n",
       "    }\n",
       "\n",
       "    .dataframe thead th {\n",
       "        text-align: right;\n",
       "    }\n",
       "</style>\n",
       "<table border=\"1\" class=\"dataframe\">\n",
       "  <thead>\n",
       "    <tr style=\"text-align: right;\">\n",
       "      <th></th>\n",
       "      <th>AGE</th>\n",
       "      <th>OCCUPATION</th>\n",
       "      <th>GENDER</th>\n",
       "      <th>FAMILY_SIZE</th>\n",
       "      <th>DURATION_OF_STAY</th>\n",
       "    </tr>\n",
       "  </thead>\n",
       "  <tbody>\n",
       "    <tr>\n",
       "      <th>0</th>\n",
       "      <td>28.0</td>\n",
       "      <td>2</td>\n",
       "      <td>1</td>\n",
       "      <td>3</td>\n",
       "      <td>15.0</td>\n",
       "    </tr>\n",
       "  </tbody>\n",
       "</table>\n",
       "</div>"
      ],
      "text/plain": [
       "    AGE  OCCUPATION  GENDER  FAMILY_SIZE  DURATION_OF_STAY\n",
       "0  28.0           2       1            3              15.0"
      ]
     },
     "execution_count": 65,
     "metadata": {},
     "output_type": "execute_result"
    }
   ],
   "source": [
    "X_test.drop(['CUSTOMER_ID'], axis=1).head(1)"
   ]
  },
  {
   "cell_type": "code",
   "execution_count": 66,
   "id": "a3899594-ea0a-419a-97d4-ba3b0dd245c3",
   "metadata": {},
   "outputs": [
    {
     "data": {
      "text/plain": [
       "array(['Basic'], dtype=object)"
      ]
     },
     "execution_count": 66,
     "metadata": {},
     "output_type": "execute_result"
    }
   ],
   "source": [
    "clf.predict(X_test.drop(['CUSTOMER_ID'], axis=1).head(1))"
   ]
  },
  {
   "cell_type": "code",
   "execution_count": 73,
   "id": "bf1c9e93-76c8-4093-a7e6-0955890ba109",
   "metadata": {},
   "outputs": [
    {
     "name": "stderr",
     "output_type": "stream",
     "text": [
      "/Users/bharatwaajshankar/Library/Python/3.8/lib/python/site-packages/sklearn/base.py:450: UserWarning: X does not have valid feature names, but RandomForestClassifier was fitted with feature names\n",
      "  warnings.warn(\n"
     ]
    },
    {
     "data": {
      "text/plain": [
       "array(['Basic'], dtype=object)"
      ]
     },
     "execution_count": 73,
     "metadata": {},
     "output_type": "execute_result"
    }
   ],
   "source": [
    "clf.predict([[28, 2, 1, 3, 15]])"
   ]
  },
  {
   "cell_type": "code",
   "execution_count": 99,
   "id": "6065fa3d-5153-46dd-917d-59d05eaecefa",
   "metadata": {},
   "outputs": [],
   "source": [
    "from joblib import dump, load\n",
    "from google.cloud import storage\n",
    "import pprint\n",
    "from tempfile import TemporaryFile\n",
    "\n",
    "PROJECT_ID = 'serverless-bnb'\n",
    "ML_MODEL_BUCKET = 'serverless-group20-ml-models'\n",
    "MODEL_NAME = \"RF003.joblib\"\n",
    "\n",
    "# Initialize the storage client\n",
    "storage_client = storage.Client(project=PROJECT_ID)\n",
    "\n",
    "def get_recommendations(data):\n",
    "    \n",
    "    \"\"\"\n",
    "        @author Bharatwaaj Shankaranarayanan\n",
    "        @function get_recommendations\n",
    "        @description This function saves the reviews data in the reviews data model\n",
    "        @params data\n",
    "        @returns response (JSON)\n",
    "    \"\"\"\n",
    "    \n",
    "    print(\"request_data\", data)\n",
    "    \n",
    "    # Get recommendations\n",
    "    try:\n",
    "        bucket = storage_client.get_bucket(ML_MODEL_BUCKET)\n",
    "        blob = bucket.get_blob(MODEL_NAME)\n",
    "#         model_file = BytesIO()\n",
    "#         blob.download_to_filename(model_file)\n",
    "#         clf = load(model_file) \n",
    "        \n",
    "        with TemporaryFile() as temp_file:\n",
    "            #download blob into temp file\n",
    "            blob.download_to_file(temp_file)\n",
    "            temp_file.seek(0)\n",
    "            #load into joblib\n",
    "            clf=load(temp_file)\n",
    "        \n",
    "        result = clf.predict([[float(data[\"AGE\"]), float(data[\"OCCUPATION\"]), float(data[\"GENDER\"]), float(data[\"FAMILY_SIZE\"]), float(data[\"DURATION_OF_STAY\"])]])\n",
    "        \n",
    "        return {\n",
    "            \"recommendation\": result[0],\n",
    "            \"success\": True\n",
    "        }\n",
    "        \n",
    "    except Exception as e:\n",
    "        pprint(e)"
   ]
  },
  {
   "cell_type": "code",
   "execution_count": 100,
   "id": "67cfc6be-db11-4c1c-b93d-0a819d8f264b",
   "metadata": {},
   "outputs": [
    {
     "name": "stdout",
     "output_type": "stream",
     "text": [
      "request_data {'AGE': '25', 'OCCUPATION': 1, 'GENDER': 0, 'FAMILY_SIZE': '5', 'DURATION_OF_STAY': '10'}\n"
     ]
    },
    {
     "name": "stderr",
     "output_type": "stream",
     "text": [
      "/Users/bharatwaajshankar/Library/Python/3.8/lib/python/site-packages/sklearn/base.py:450: UserWarning: X does not have valid feature names, but RandomForestClassifier was fitted with feature names\n",
      "  warnings.warn(\n"
     ]
    },
    {
     "data": {
      "text/plain": [
       "{'recommendation': 'Basic', 'success': True}"
      ]
     },
     "execution_count": 100,
     "metadata": {},
     "output_type": "execute_result"
    }
   ],
   "source": [
    "get_recommendations(\n",
    "    {\"AGE\": \"25\", \"OCCUPATION\": 1, \"GENDER\": 0, \"FAMILY_SIZE\": \"5\", \"DURATION_OF_STAY\": \"10\"}\n",
    ")"
   ]
  },
  {
   "cell_type": "code",
   "execution_count": 101,
   "id": "e50cbb02-4b1a-4205-af1d-fbad8e5cf903",
   "metadata": {},
   "outputs": [],
   "source": [
    "from joblib import dump, load\n",
    "from google.cloud import storage\n",
    "import pprint\n",
    "from tempfile import TemporaryFile\n",
    "\n",
    "PROJECT_ID = 'serverless-bnb'\n",
    "ML_MODEL_BUCKET = 'serverless-group20-ml-models'\n",
    "MODEL_NAME = \"RF003.joblib\""
   ]
  },
  {
   "cell_type": "code",
   "execution_count": 104,
   "id": "98844bb4-3202-49c7-ac53-d940ff59bb4c",
   "metadata": {},
   "outputs": [],
   "source": [
    "bucket = storage_client.get_bucket(ML_MODEL_BUCKET)\n",
    "blob = bucket.blob(MODEL_NAME)\n",
    "with blob.open(mode=\"rb\") as file:\n",
    "    model = load(file)"
   ]
  },
  {
   "cell_type": "code",
   "execution_count": null,
   "id": "46d92c44-d677-452e-be67-e1f05cb63520",
   "metadata": {},
   "outputs": [],
   "source": [
    "model.predict(X_test.drop()"
   ]
  },
  {
   "cell_type": "code",
   "execution_count": 105,
   "id": "d9578d01-0121-4a6d-a5a7-8d0ad02bea63",
   "metadata": {},
   "outputs": [
    {
     "ename": "ModuleNotFoundError",
     "evalue": "No module named 'tensorflow'",
     "output_type": "error",
     "traceback": [
      "\u001b[0;31m---------------------------------------------------------------------------\u001b[0m",
      "\u001b[0;31mModuleNotFoundError\u001b[0m                       Traceback (most recent call last)",
      "\u001b[0;32m<ipython-input-105-64156d691fe5>\u001b[0m in \u001b[0;36m<module>\u001b[0;34m\u001b[0m\n\u001b[0;32m----> 1\u001b[0;31m \u001b[0;32mimport\u001b[0m \u001b[0mtensorflow\u001b[0m \u001b[0;32mas\u001b[0m \u001b[0mtf\u001b[0m\u001b[0;34m\u001b[0m\u001b[0;34m\u001b[0m\u001b[0m\n\u001b[0m",
      "\u001b[0;31mModuleNotFoundError\u001b[0m: No module named 'tensorflow'"
     ]
    }
   ],
   "source": [
    "import tensorflow as tf"
   ]
  },
  {
   "cell_type": "code",
   "execution_count": 106,
   "id": "68877402-e330-4add-a41b-b83f4fb3d253",
   "metadata": {},
   "outputs": [],
   "source": [
    "import sys"
   ]
  },
  {
   "cell_type": "code",
   "execution_count": 108,
   "id": "a09e4f41-ee70-4251-a920-ae7100d5bc60",
   "metadata": {},
   "outputs": [
    {
     "name": "stdout",
     "output_type": "stream",
     "text": [
      "Defaulting to user installation because normal site-packages is not writeable\n",
      "Collecting gcsfs\n",
      "  Downloading gcsfs-2022.5.0-py2.py3-none-any.whl (25 kB)\n",
      "Requirement already satisfied: decorator>4.1.2 in /Library/Python/3.8/site-packages (from gcsfs) (5.0.9)\n",
      "Collecting fsspec==2022.5.0\n",
      "  Downloading fsspec-2022.5.0-py3-none-any.whl (140 kB)\n",
      "\u001b[2K     \u001b[90m━━━━━━━━━━━━━━━━━━━━━━━━━━━━━━━━━━━━━━━\u001b[0m \u001b[32m140.6/140.6 KB\u001b[0m \u001b[31m2.7 MB/s\u001b[0m eta \u001b[36m0:00:00\u001b[0ma \u001b[36m0:00:01\u001b[0m\n",
      "\u001b[?25hRequirement already satisfied: google-cloud-storage in /Users/bharatwaajshankar/Library/Python/3.8/lib/python/site-packages (from gcsfs) (2.4.0)\n",
      "Requirement already satisfied: requests in /Library/Python/3.8/site-packages (from gcsfs) (2.25.1)\n",
      "Collecting aiohttp<4\n",
      "  Downloading aiohttp-3.8.1-cp38-cp38-macosx_11_0_arm64.whl (551 kB)\n",
      "\u001b[2K     \u001b[90m━━━━━━━━━━━━━━━━━━━━━━━━━━━━━━━━━━━━━━━\u001b[0m \u001b[32m551.9/551.9 KB\u001b[0m \u001b[31m8.4 MB/s\u001b[0m eta \u001b[36m0:00:00\u001b[0ma \u001b[36m0:00:01\u001b[0m\n",
      "\u001b[?25hCollecting google-auth-oauthlib\n",
      "  Downloading google_auth_oauthlib-0.5.2-py2.py3-none-any.whl (19 kB)\n",
      "Requirement already satisfied: google-auth>=1.2 in /Users/bharatwaajshankar/Library/Python/3.8/lib/python/site-packages (from gcsfs) (2.9.0)\n",
      "Collecting aiosignal>=1.1.2\n",
      "  Downloading aiosignal-1.2.0-py3-none-any.whl (8.2 kB)\n",
      "Collecting yarl<2.0,>=1.0\n",
      "  Downloading yarl-1.7.2-cp38-cp38-macosx_11_0_arm64.whl (117 kB)\n",
      "\u001b[2K     \u001b[90m━━━━━━━━━━━━━━━━━━━━━━━━━━━━━━━━━━━━━━━\u001b[0m \u001b[32m117.9/117.9 KB\u001b[0m \u001b[31m4.7 MB/s\u001b[0m eta \u001b[36m0:00:00\u001b[0m\n",
      "\u001b[?25hCollecting frozenlist>=1.1.1\n",
      "  Downloading frozenlist-1.3.0-cp38-cp38-macosx_11_0_arm64.whl (34 kB)\n",
      "Collecting charset-normalizer<3.0,>=2.0\n",
      "  Downloading charset_normalizer-2.1.0-py3-none-any.whl (39 kB)\n",
      "Collecting multidict<7.0,>=4.5\n",
      "  Downloading multidict-6.0.2-cp38-cp38-macosx_11_0_arm64.whl (29 kB)\n",
      "Collecting async-timeout<5.0,>=4.0.0a3\n",
      "  Downloading async_timeout-4.0.2-py3-none-any.whl (5.8 kB)\n",
      "Requirement already satisfied: attrs>=17.3.0 in /Library/Python/3.8/site-packages (from aiohttp<4->gcsfs) (20.3.0)\n",
      "Requirement already satisfied: six>=1.9.0 in /Applications/Xcode.app/Contents/Developer/Library/Frameworks/Python3.framework/Versions/3.8/lib/python3.8/site-packages (from google-auth>=1.2->gcsfs) (1.15.0)\n",
      "Requirement already satisfied: pyasn1-modules>=0.2.1 in /Users/bharatwaajshankar/Library/Python/3.8/lib/python/site-packages (from google-auth>=1.2->gcsfs) (0.2.8)\n",
      "Requirement already satisfied: cachetools<6.0,>=2.0.0 in /Users/bharatwaajshankar/Library/Python/3.8/lib/python/site-packages (from google-auth>=1.2->gcsfs) (5.2.0)\n",
      "Requirement already satisfied: rsa<5,>=3.1.4 in /Users/bharatwaajshankar/Library/Python/3.8/lib/python/site-packages (from google-auth>=1.2->gcsfs) (4.8)\n",
      "Collecting requests-oauthlib>=0.7.0\n",
      "  Using cached requests_oauthlib-1.3.1-py2.py3-none-any.whl (23 kB)\n",
      "Requirement already satisfied: google-api-core!=2.0.*,!=2.1.*,!=2.2.*,!=2.3.0,<3.0.0dev,>=1.31.5 in /Users/bharatwaajshankar/Library/Python/3.8/lib/python/site-packages (from google-cloud-storage->gcsfs) (2.8.2)\n",
      "Requirement already satisfied: google-cloud-core<3.0dev,>=2.3.0 in /Users/bharatwaajshankar/Library/Python/3.8/lib/python/site-packages (from google-cloud-storage->gcsfs) (2.3.1)\n",
      "Requirement already satisfied: google-resumable-media>=2.3.2 in /Users/bharatwaajshankar/Library/Python/3.8/lib/python/site-packages (from google-cloud-storage->gcsfs) (2.3.3)\n",
      "Requirement already satisfied: certifi>=2017.4.17 in /Library/Python/3.8/site-packages (from requests->gcsfs) (2020.12.5)\n",
      "Requirement already satisfied: chardet<5,>=3.0.2 in /Library/Python/3.8/site-packages (from requests->gcsfs) (4.0.0)\n",
      "Requirement already satisfied: idna<3,>=2.5 in /Library/Python/3.8/site-packages (from requests->gcsfs) (2.10)\n",
      "Requirement already satisfied: urllib3<1.27,>=1.21.1 in /Library/Python/3.8/site-packages (from requests->gcsfs) (1.26.4)\n",
      "Requirement already satisfied: googleapis-common-protos<2.0dev,>=1.56.2 in /Users/bharatwaajshankar/Library/Python/3.8/lib/python/site-packages (from google-api-core!=2.0.*,!=2.1.*,!=2.2.*,!=2.3.0,<3.0.0dev,>=1.31.5->google-cloud-storage->gcsfs) (1.56.3)\n",
      "Requirement already satisfied: protobuf<5.0.0dev,>=3.15.0 in /Users/bharatwaajshankar/Library/Python/3.8/lib/python/site-packages (from google-api-core!=2.0.*,!=2.1.*,!=2.2.*,!=2.3.0,<3.0.0dev,>=1.31.5->google-cloud-storage->gcsfs) (3.19.4)\n",
      "Requirement already satisfied: google-crc32c<2.0dev,>=1.0 in /Users/bharatwaajshankar/Library/Python/3.8/lib/python/site-packages (from google-resumable-media>=2.3.2->google-cloud-storage->gcsfs) (1.3.0)\n",
      "Requirement already satisfied: pyasn1<0.5.0,>=0.4.6 in /Users/bharatwaajshankar/Library/Python/3.8/lib/python/site-packages (from pyasn1-modules>=0.2.1->google-auth>=1.2->gcsfs) (0.4.8)\n",
      "Collecting oauthlib>=3.0.0\n",
      "  Using cached oauthlib-3.2.0-py3-none-any.whl (151 kB)\n",
      "Installing collected packages: oauthlib, multidict, fsspec, frozenlist, charset-normalizer, async-timeout, yarl, requests-oauthlib, aiosignal, google-auth-oauthlib, aiohttp, gcsfs\n",
      "\u001b[33m  WARNING: The script normalizer is installed in '/Users/bharatwaajshankar/Library/Python/3.8/bin' which is not on PATH.\n",
      "  Consider adding this directory to PATH or, if you prefer to suppress this warning, use --no-warn-script-location.\u001b[0m\u001b[33m\n",
      "\u001b[0m\u001b[33m  WARNING: The script google-oauthlib-tool is installed in '/Users/bharatwaajshankar/Library/Python/3.8/bin' which is not on PATH.\n",
      "  Consider adding this directory to PATH or, if you prefer to suppress this warning, use --no-warn-script-location.\u001b[0m\u001b[33m\n",
      "\u001b[0mSuccessfully installed aiohttp-3.8.1 aiosignal-1.2.0 async-timeout-4.0.2 charset-normalizer-2.1.0 frozenlist-1.3.0 fsspec-2022.5.0 gcsfs-2022.5.0 google-auth-oauthlib-0.5.2 multidict-6.0.2 oauthlib-3.2.0 requests-oauthlib-1.3.1 yarl-1.7.2\n",
      "\u001b[33mWARNING: You are using pip version 22.0.3; however, version 22.1.2 is available.\n",
      "You should consider upgrading via the '/Applications/Xcode.app/Contents/Developer/usr/bin/python3 -m pip install --upgrade pip' command.\u001b[0m\u001b[33m\n",
      "\u001b[0m"
     ]
    }
   ],
   "source": [
    "!{sys.executable} -m pip install gcsfs"
   ]
  },
  {
   "cell_type": "code",
   "execution_count": 117,
   "id": "a9abb9ef-278c-4315-bd94-ab2c95927204",
   "metadata": {},
   "outputs": [],
   "source": [
    "bucket = storage_client.get_bucket(ML_MODEL_BUCKET)\n",
    "blob = bucket.blob(MODEL_NAME)\n",
    "with blob.open(mode=\"rb\") as file:\n",
    "    model = joblib.load(file)"
   ]
  },
  {
   "cell_type": "code",
   "execution_count": 118,
   "id": "ae76e0b2-88cd-47cc-827b-b87caeda67a8",
   "metadata": {},
   "outputs": [
    {
     "data": {
      "text/html": [
       "<style>#sk-container-id-1 {color: black;background-color: white;}#sk-container-id-1 pre{padding: 0;}#sk-container-id-1 div.sk-toggleable {background-color: white;}#sk-container-id-1 label.sk-toggleable__label {cursor: pointer;display: block;width: 100%;margin-bottom: 0;padding: 0.3em;box-sizing: border-box;text-align: center;}#sk-container-id-1 label.sk-toggleable__label-arrow:before {content: \"▸\";float: left;margin-right: 0.25em;color: #696969;}#sk-container-id-1 label.sk-toggleable__label-arrow:hover:before {color: black;}#sk-container-id-1 div.sk-estimator:hover label.sk-toggleable__label-arrow:before {color: black;}#sk-container-id-1 div.sk-toggleable__content {max-height: 0;max-width: 0;overflow: hidden;text-align: left;background-color: #f0f8ff;}#sk-container-id-1 div.sk-toggleable__content pre {margin: 0.2em;color: black;border-radius: 0.25em;background-color: #f0f8ff;}#sk-container-id-1 input.sk-toggleable__control:checked~div.sk-toggleable__content {max-height: 200px;max-width: 100%;overflow: auto;}#sk-container-id-1 input.sk-toggleable__control:checked~label.sk-toggleable__label-arrow:before {content: \"▾\";}#sk-container-id-1 div.sk-estimator input.sk-toggleable__control:checked~label.sk-toggleable__label {background-color: #d4ebff;}#sk-container-id-1 div.sk-label input.sk-toggleable__control:checked~label.sk-toggleable__label {background-color: #d4ebff;}#sk-container-id-1 input.sk-hidden--visually {border: 0;clip: rect(1px 1px 1px 1px);clip: rect(1px, 1px, 1px, 1px);height: 1px;margin: -1px;overflow: hidden;padding: 0;position: absolute;width: 1px;}#sk-container-id-1 div.sk-estimator {font-family: monospace;background-color: #f0f8ff;border: 1px dotted black;border-radius: 0.25em;box-sizing: border-box;margin-bottom: 0.5em;}#sk-container-id-1 div.sk-estimator:hover {background-color: #d4ebff;}#sk-container-id-1 div.sk-parallel-item::after {content: \"\";width: 100%;border-bottom: 1px solid gray;flex-grow: 1;}#sk-container-id-1 div.sk-label:hover label.sk-toggleable__label {background-color: #d4ebff;}#sk-container-id-1 div.sk-serial::before {content: \"\";position: absolute;border-left: 1px solid gray;box-sizing: border-box;top: 0;bottom: 0;left: 50%;z-index: 0;}#sk-container-id-1 div.sk-serial {display: flex;flex-direction: column;align-items: center;background-color: white;padding-right: 0.2em;padding-left: 0.2em;position: relative;}#sk-container-id-1 div.sk-item {position: relative;z-index: 1;}#sk-container-id-1 div.sk-parallel {display: flex;align-items: stretch;justify-content: center;background-color: white;position: relative;}#sk-container-id-1 div.sk-item::before, #sk-container-id-1 div.sk-parallel-item::before {content: \"\";position: absolute;border-left: 1px solid gray;box-sizing: border-box;top: 0;bottom: 0;left: 50%;z-index: -1;}#sk-container-id-1 div.sk-parallel-item {display: flex;flex-direction: column;z-index: 1;position: relative;background-color: white;}#sk-container-id-1 div.sk-parallel-item:first-child::after {align-self: flex-end;width: 50%;}#sk-container-id-1 div.sk-parallel-item:last-child::after {align-self: flex-start;width: 50%;}#sk-container-id-1 div.sk-parallel-item:only-child::after {width: 0;}#sk-container-id-1 div.sk-dashed-wrapped {border: 1px dashed gray;margin: 0 0.4em 0.5em 0.4em;box-sizing: border-box;padding-bottom: 0.4em;background-color: white;}#sk-container-id-1 div.sk-label label {font-family: monospace;font-weight: bold;display: inline-block;line-height: 1.2em;}#sk-container-id-1 div.sk-label-container {text-align: center;}#sk-container-id-1 div.sk-container {/* jupyter's `normalize.less` sets `[hidden] { display: none; }` but bootstrap.min.css set `[hidden] { display: none !important; }` so we also need the `!important` here to be able to override the default hidden behavior on the sphinx rendered scikit-learn.org. See: https://github.com/scikit-learn/scikit-learn/issues/21755 */display: inline-block !important;position: relative;}#sk-container-id-1 div.sk-text-repr-fallback {display: none;}</style><div id=\"sk-container-id-1\" class=\"sk-top-container\"><div class=\"sk-text-repr-fallback\"><pre>RandomForestClassifier(max_depth=8, random_state=0)</pre><b>In a Jupyter environment, please rerun this cell to show the HTML representation or trust the notebook. <br />On GitHub, the HTML representation is unable to render, please try loading this page with nbviewer.org.</b></div><div class=\"sk-container\" hidden><div class=\"sk-item\"><div class=\"sk-estimator sk-toggleable\"><input class=\"sk-toggleable__control sk-hidden--visually\" id=\"sk-estimator-id-1\" type=\"checkbox\" checked><label for=\"sk-estimator-id-1\" class=\"sk-toggleable__label sk-toggleable__label-arrow\">RandomForestClassifier</label><div class=\"sk-toggleable__content\"><pre>RandomForestClassifier(max_depth=8, random_state=0)</pre></div></div></div></div></div>"
      ],
      "text/plain": [
       "RandomForestClassifier(max_depth=8, random_state=0)"
      ]
     },
     "execution_count": 118,
     "metadata": {},
     "output_type": "execute_result"
    }
   ],
   "source": [
    "model"
   ]
  },
  {
   "cell_type": "code",
   "execution_count": 112,
   "id": "7d259113-9ad7-4d3f-9b77-5f30371771f9",
   "metadata": {},
   "outputs": [],
   "source": [
    "import gcsfs, joblib"
   ]
  },
  {
   "cell_type": "code",
   "execution_count": 113,
   "id": "4148e853-5742-437f-b9a5-d1b5981ad7bc",
   "metadata": {},
   "outputs": [],
   "source": [
    "def load_joblib(bucket_name, file_name):\n",
    "    fs = gcsfs.GCSFileSystem()\n",
    "    with fs.open(f'{bucket_name}/{file_name}') as f:\n",
    "        return joblib.load(f)"
   ]
  },
  {
   "cell_type": "code",
   "execution_count": 114,
   "id": "8a3d9492-f2e6-4981-90ee-cb6138268762",
   "metadata": {},
   "outputs": [],
   "source": [
    "clf = load_joblib(ML_MODEL_BUCKET, MODEL_NAME)"
   ]
  },
  {
   "cell_type": "code",
   "execution_count": null,
   "id": "ee334543-a4fc-45d6-93e4-02f680882080",
   "metadata": {},
   "outputs": [],
   "source": [
    "clf.predict()"
   ]
  }
 ],
 "metadata": {
  "kernelspec": {
   "display_name": "Python 3",
   "language": "python",
   "name": "python3"
  },
  "language_info": {
   "codemirror_mode": {
    "name": "ipython",
    "version": 3
   },
   "file_extension": ".py",
   "mimetype": "text/x-python",
   "name": "python",
   "nbconvert_exporter": "python",
   "pygments_lexer": "ipython3",
   "version": "3.8.9"
  }
 },
 "nbformat": 4,
 "nbformat_minor": 5
}
