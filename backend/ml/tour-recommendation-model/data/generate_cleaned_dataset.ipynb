{
 "cells": [
  {
   "cell_type": "code",
   "execution_count": 1,
   "id": "d3ebbb67-06f4-45f1-9b9c-bf6f1a3b2681",
   "metadata": {},
   "outputs": [],
   "source": [
    "# Imports\n",
    "import pandas as pd\n",
    "import numpy as np\n",
    "\n",
    "from sklearn.model_selection import train_test_split"
   ]
  },
  {
   "cell_type": "code",
   "execution_count": 2,
   "id": "d0330115-2905-4c44-be83-f890b5c0f3b0",
   "metadata": {},
   "outputs": [],
   "source": [
    "df = pd.read_csv(\"tour_package.csv\")"
   ]
  },
  {
   "cell_type": "code",
   "execution_count": 3,
   "id": "80ce8438-90bc-4840-9c56-13d6fe5d0a80",
   "metadata": {},
   "outputs": [
    {
     "data": {
      "text/html": [
       "<div>\n",
       "<style scoped>\n",
       "    .dataframe tbody tr th:only-of-type {\n",
       "        vertical-align: middle;\n",
       "    }\n",
       "\n",
       "    .dataframe tbody tr th {\n",
       "        vertical-align: top;\n",
       "    }\n",
       "\n",
       "    .dataframe thead th {\n",
       "        text-align: right;\n",
       "    }\n",
       "</style>\n",
       "<table border=\"1\" class=\"dataframe\">\n",
       "  <thead>\n",
       "    <tr style=\"text-align: right;\">\n",
       "      <th></th>\n",
       "      <th>CustomerID</th>\n",
       "      <th>ProdTaken</th>\n",
       "      <th>Age</th>\n",
       "      <th>TypeofContact</th>\n",
       "      <th>CityTier</th>\n",
       "      <th>DurationOfPitch</th>\n",
       "      <th>Occupation</th>\n",
       "      <th>Gender</th>\n",
       "      <th>NumberOfPersonVisiting</th>\n",
       "      <th>NumberOfFollowups</th>\n",
       "      <th>ProductPitched</th>\n",
       "      <th>PreferredPropertyStar</th>\n",
       "      <th>MaritalStatus</th>\n",
       "      <th>NumberOfTrips</th>\n",
       "      <th>Passport</th>\n",
       "      <th>PitchSatisfactionScore</th>\n",
       "      <th>OwnCar</th>\n",
       "      <th>NumberOfChildrenVisiting</th>\n",
       "      <th>Designation</th>\n",
       "      <th>MonthlyIncome</th>\n",
       "    </tr>\n",
       "  </thead>\n",
       "  <tbody>\n",
       "    <tr>\n",
       "      <th>0</th>\n",
       "      <td>200000</td>\n",
       "      <td>1</td>\n",
       "      <td>41.0</td>\n",
       "      <td>Self Enquiry</td>\n",
       "      <td>3</td>\n",
       "      <td>6.0</td>\n",
       "      <td>Salaried</td>\n",
       "      <td>Female</td>\n",
       "      <td>3</td>\n",
       "      <td>3.0</td>\n",
       "      <td>Deluxe</td>\n",
       "      <td>3.0</td>\n",
       "      <td>Single</td>\n",
       "      <td>1.0</td>\n",
       "      <td>1</td>\n",
       "      <td>2</td>\n",
       "      <td>1</td>\n",
       "      <td>0.0</td>\n",
       "      <td>Manager</td>\n",
       "      <td>20993.0</td>\n",
       "    </tr>\n",
       "    <tr>\n",
       "      <th>1</th>\n",
       "      <td>200001</td>\n",
       "      <td>0</td>\n",
       "      <td>49.0</td>\n",
       "      <td>Company Invited</td>\n",
       "      <td>1</td>\n",
       "      <td>14.0</td>\n",
       "      <td>Salaried</td>\n",
       "      <td>Male</td>\n",
       "      <td>3</td>\n",
       "      <td>4.0</td>\n",
       "      <td>Deluxe</td>\n",
       "      <td>4.0</td>\n",
       "      <td>Divorced</td>\n",
       "      <td>2.0</td>\n",
       "      <td>0</td>\n",
       "      <td>3</td>\n",
       "      <td>1</td>\n",
       "      <td>2.0</td>\n",
       "      <td>Manager</td>\n",
       "      <td>20130.0</td>\n",
       "    </tr>\n",
       "    <tr>\n",
       "      <th>2</th>\n",
       "      <td>200002</td>\n",
       "      <td>1</td>\n",
       "      <td>37.0</td>\n",
       "      <td>Self Enquiry</td>\n",
       "      <td>1</td>\n",
       "      <td>8.0</td>\n",
       "      <td>Free Lancer</td>\n",
       "      <td>Male</td>\n",
       "      <td>3</td>\n",
       "      <td>4.0</td>\n",
       "      <td>Basic</td>\n",
       "      <td>3.0</td>\n",
       "      <td>Single</td>\n",
       "      <td>7.0</td>\n",
       "      <td>1</td>\n",
       "      <td>3</td>\n",
       "      <td>0</td>\n",
       "      <td>0.0</td>\n",
       "      <td>Executive</td>\n",
       "      <td>17090.0</td>\n",
       "    </tr>\n",
       "    <tr>\n",
       "      <th>3</th>\n",
       "      <td>200003</td>\n",
       "      <td>0</td>\n",
       "      <td>33.0</td>\n",
       "      <td>Company Invited</td>\n",
       "      <td>1</td>\n",
       "      <td>9.0</td>\n",
       "      <td>Salaried</td>\n",
       "      <td>Female</td>\n",
       "      <td>2</td>\n",
       "      <td>3.0</td>\n",
       "      <td>Basic</td>\n",
       "      <td>3.0</td>\n",
       "      <td>Divorced</td>\n",
       "      <td>2.0</td>\n",
       "      <td>1</td>\n",
       "      <td>5</td>\n",
       "      <td>1</td>\n",
       "      <td>1.0</td>\n",
       "      <td>Executive</td>\n",
       "      <td>17909.0</td>\n",
       "    </tr>\n",
       "    <tr>\n",
       "      <th>4</th>\n",
       "      <td>200004</td>\n",
       "      <td>0</td>\n",
       "      <td>NaN</td>\n",
       "      <td>Self Enquiry</td>\n",
       "      <td>1</td>\n",
       "      <td>8.0</td>\n",
       "      <td>Small Business</td>\n",
       "      <td>Male</td>\n",
       "      <td>2</td>\n",
       "      <td>3.0</td>\n",
       "      <td>Basic</td>\n",
       "      <td>4.0</td>\n",
       "      <td>Divorced</td>\n",
       "      <td>1.0</td>\n",
       "      <td>0</td>\n",
       "      <td>5</td>\n",
       "      <td>1</td>\n",
       "      <td>0.0</td>\n",
       "      <td>Executive</td>\n",
       "      <td>18468.0</td>\n",
       "    </tr>\n",
       "  </tbody>\n",
       "</table>\n",
       "</div>"
      ],
      "text/plain": [
       "   CustomerID  ProdTaken   Age    TypeofContact  CityTier  DurationOfPitch  \\\n",
       "0      200000          1  41.0     Self Enquiry         3              6.0   \n",
       "1      200001          0  49.0  Company Invited         1             14.0   \n",
       "2      200002          1  37.0     Self Enquiry         1              8.0   \n",
       "3      200003          0  33.0  Company Invited         1              9.0   \n",
       "4      200004          0   NaN     Self Enquiry         1              8.0   \n",
       "\n",
       "       Occupation  Gender  NumberOfPersonVisiting  NumberOfFollowups  \\\n",
       "0        Salaried  Female                       3                3.0   \n",
       "1        Salaried    Male                       3                4.0   \n",
       "2     Free Lancer    Male                       3                4.0   \n",
       "3        Salaried  Female                       2                3.0   \n",
       "4  Small Business    Male                       2                3.0   \n",
       "\n",
       "  ProductPitched  PreferredPropertyStar MaritalStatus  NumberOfTrips  \\\n",
       "0         Deluxe                    3.0        Single            1.0   \n",
       "1         Deluxe                    4.0      Divorced            2.0   \n",
       "2          Basic                    3.0        Single            7.0   \n",
       "3          Basic                    3.0      Divorced            2.0   \n",
       "4          Basic                    4.0      Divorced            1.0   \n",
       "\n",
       "   Passport  PitchSatisfactionScore  OwnCar  NumberOfChildrenVisiting  \\\n",
       "0         1                       2       1                       0.0   \n",
       "1         0                       3       1                       2.0   \n",
       "2         1                       3       0                       0.0   \n",
       "3         1                       5       1                       1.0   \n",
       "4         0                       5       1                       0.0   \n",
       "\n",
       "  Designation  MonthlyIncome  \n",
       "0     Manager        20993.0  \n",
       "1     Manager        20130.0  \n",
       "2   Executive        17090.0  \n",
       "3   Executive        17909.0  \n",
       "4   Executive        18468.0  "
      ]
     },
     "execution_count": 3,
     "metadata": {},
     "output_type": "execute_result"
    }
   ],
   "source": [
    "df.head()"
   ]
  },
  {
   "cell_type": "code",
   "execution_count": 4,
   "id": "5d6a16da-3921-4a53-8f35-2e88d12dc11d",
   "metadata": {},
   "outputs": [],
   "source": [
    "df[\"ChosenProductPackage\"] = np.random.choice(df['ProductPitched'].unique(), size=len(df))"
   ]
  },
  {
   "cell_type": "code",
   "execution_count": 5,
   "id": "54cd8ba5-438f-42f7-a434-d8be6df85b83",
   "metadata": {},
   "outputs": [
    {
     "data": {
      "text/html": [
       "<div>\n",
       "<style scoped>\n",
       "    .dataframe tbody tr th:only-of-type {\n",
       "        vertical-align: middle;\n",
       "    }\n",
       "\n",
       "    .dataframe tbody tr th {\n",
       "        vertical-align: top;\n",
       "    }\n",
       "\n",
       "    .dataframe thead th {\n",
       "        text-align: right;\n",
       "    }\n",
       "</style>\n",
       "<table border=\"1\" class=\"dataframe\">\n",
       "  <thead>\n",
       "    <tr style=\"text-align: right;\">\n",
       "      <th></th>\n",
       "      <th>CustomerID</th>\n",
       "      <th>ProdTaken</th>\n",
       "      <th>Age</th>\n",
       "      <th>TypeofContact</th>\n",
       "      <th>CityTier</th>\n",
       "      <th>DurationOfPitch</th>\n",
       "      <th>Occupation</th>\n",
       "      <th>Gender</th>\n",
       "      <th>NumberOfPersonVisiting</th>\n",
       "      <th>NumberOfFollowups</th>\n",
       "      <th>...</th>\n",
       "      <th>PreferredPropertyStar</th>\n",
       "      <th>MaritalStatus</th>\n",
       "      <th>NumberOfTrips</th>\n",
       "      <th>Passport</th>\n",
       "      <th>PitchSatisfactionScore</th>\n",
       "      <th>OwnCar</th>\n",
       "      <th>NumberOfChildrenVisiting</th>\n",
       "      <th>Designation</th>\n",
       "      <th>MonthlyIncome</th>\n",
       "      <th>ChosenProductPackage</th>\n",
       "    </tr>\n",
       "  </thead>\n",
       "  <tbody>\n",
       "    <tr>\n",
       "      <th>0</th>\n",
       "      <td>200000</td>\n",
       "      <td>1</td>\n",
       "      <td>41.0</td>\n",
       "      <td>Self Enquiry</td>\n",
       "      <td>3</td>\n",
       "      <td>6.0</td>\n",
       "      <td>Salaried</td>\n",
       "      <td>Female</td>\n",
       "      <td>3</td>\n",
       "      <td>3.0</td>\n",
       "      <td>...</td>\n",
       "      <td>3.0</td>\n",
       "      <td>Single</td>\n",
       "      <td>1.0</td>\n",
       "      <td>1</td>\n",
       "      <td>2</td>\n",
       "      <td>1</td>\n",
       "      <td>0.0</td>\n",
       "      <td>Manager</td>\n",
       "      <td>20993.0</td>\n",
       "      <td>Super Deluxe</td>\n",
       "    </tr>\n",
       "    <tr>\n",
       "      <th>1</th>\n",
       "      <td>200001</td>\n",
       "      <td>0</td>\n",
       "      <td>49.0</td>\n",
       "      <td>Company Invited</td>\n",
       "      <td>1</td>\n",
       "      <td>14.0</td>\n",
       "      <td>Salaried</td>\n",
       "      <td>Male</td>\n",
       "      <td>3</td>\n",
       "      <td>4.0</td>\n",
       "      <td>...</td>\n",
       "      <td>4.0</td>\n",
       "      <td>Divorced</td>\n",
       "      <td>2.0</td>\n",
       "      <td>0</td>\n",
       "      <td>3</td>\n",
       "      <td>1</td>\n",
       "      <td>2.0</td>\n",
       "      <td>Manager</td>\n",
       "      <td>20130.0</td>\n",
       "      <td>Standard</td>\n",
       "    </tr>\n",
       "    <tr>\n",
       "      <th>2</th>\n",
       "      <td>200002</td>\n",
       "      <td>1</td>\n",
       "      <td>37.0</td>\n",
       "      <td>Self Enquiry</td>\n",
       "      <td>1</td>\n",
       "      <td>8.0</td>\n",
       "      <td>Free Lancer</td>\n",
       "      <td>Male</td>\n",
       "      <td>3</td>\n",
       "      <td>4.0</td>\n",
       "      <td>...</td>\n",
       "      <td>3.0</td>\n",
       "      <td>Single</td>\n",
       "      <td>7.0</td>\n",
       "      <td>1</td>\n",
       "      <td>3</td>\n",
       "      <td>0</td>\n",
       "      <td>0.0</td>\n",
       "      <td>Executive</td>\n",
       "      <td>17090.0</td>\n",
       "      <td>Deluxe</td>\n",
       "    </tr>\n",
       "    <tr>\n",
       "      <th>3</th>\n",
       "      <td>200003</td>\n",
       "      <td>0</td>\n",
       "      <td>33.0</td>\n",
       "      <td>Company Invited</td>\n",
       "      <td>1</td>\n",
       "      <td>9.0</td>\n",
       "      <td>Salaried</td>\n",
       "      <td>Female</td>\n",
       "      <td>2</td>\n",
       "      <td>3.0</td>\n",
       "      <td>...</td>\n",
       "      <td>3.0</td>\n",
       "      <td>Divorced</td>\n",
       "      <td>2.0</td>\n",
       "      <td>1</td>\n",
       "      <td>5</td>\n",
       "      <td>1</td>\n",
       "      <td>1.0</td>\n",
       "      <td>Executive</td>\n",
       "      <td>17909.0</td>\n",
       "      <td>Super Deluxe</td>\n",
       "    </tr>\n",
       "    <tr>\n",
       "      <th>4</th>\n",
       "      <td>200004</td>\n",
       "      <td>0</td>\n",
       "      <td>NaN</td>\n",
       "      <td>Self Enquiry</td>\n",
       "      <td>1</td>\n",
       "      <td>8.0</td>\n",
       "      <td>Small Business</td>\n",
       "      <td>Male</td>\n",
       "      <td>2</td>\n",
       "      <td>3.0</td>\n",
       "      <td>...</td>\n",
       "      <td>4.0</td>\n",
       "      <td>Divorced</td>\n",
       "      <td>1.0</td>\n",
       "      <td>0</td>\n",
       "      <td>5</td>\n",
       "      <td>1</td>\n",
       "      <td>0.0</td>\n",
       "      <td>Executive</td>\n",
       "      <td>18468.0</td>\n",
       "      <td>Super Deluxe</td>\n",
       "    </tr>\n",
       "  </tbody>\n",
       "</table>\n",
       "<p>5 rows × 21 columns</p>\n",
       "</div>"
      ],
      "text/plain": [
       "   CustomerID  ProdTaken   Age    TypeofContact  CityTier  DurationOfPitch  \\\n",
       "0      200000          1  41.0     Self Enquiry         3              6.0   \n",
       "1      200001          0  49.0  Company Invited         1             14.0   \n",
       "2      200002          1  37.0     Self Enquiry         1              8.0   \n",
       "3      200003          0  33.0  Company Invited         1              9.0   \n",
       "4      200004          0   NaN     Self Enquiry         1              8.0   \n",
       "\n",
       "       Occupation  Gender  NumberOfPersonVisiting  NumberOfFollowups  ...  \\\n",
       "0        Salaried  Female                       3                3.0  ...   \n",
       "1        Salaried    Male                       3                4.0  ...   \n",
       "2     Free Lancer    Male                       3                4.0  ...   \n",
       "3        Salaried  Female                       2                3.0  ...   \n",
       "4  Small Business    Male                       2                3.0  ...   \n",
       "\n",
       "  PreferredPropertyStar  MaritalStatus NumberOfTrips  Passport  \\\n",
       "0                   3.0         Single           1.0         1   \n",
       "1                   4.0       Divorced           2.0         0   \n",
       "2                   3.0         Single           7.0         1   \n",
       "3                   3.0       Divorced           2.0         1   \n",
       "4                   4.0       Divorced           1.0         0   \n",
       "\n",
       "   PitchSatisfactionScore  OwnCar  NumberOfChildrenVisiting  Designation  \\\n",
       "0                       2       1                       0.0      Manager   \n",
       "1                       3       1                       2.0      Manager   \n",
       "2                       3       0                       0.0    Executive   \n",
       "3                       5       1                       1.0    Executive   \n",
       "4                       5       1                       0.0    Executive   \n",
       "\n",
       "  MonthlyIncome  ChosenProductPackage  \n",
       "0       20993.0          Super Deluxe  \n",
       "1       20130.0              Standard  \n",
       "2       17090.0                Deluxe  \n",
       "3       17909.0          Super Deluxe  \n",
       "4       18468.0          Super Deluxe  \n",
       "\n",
       "[5 rows x 21 columns]"
      ]
     },
     "execution_count": 5,
     "metadata": {},
     "output_type": "execute_result"
    }
   ],
   "source": [
    "df.head()"
   ]
  },
  {
   "cell_type": "code",
   "execution_count": 7,
   "id": "c0feb178-f1f7-4b51-a4be-e1b30fea76dc",
   "metadata": {},
   "outputs": [],
   "source": [
    "df2 = df[[\"CustomerID\", \"Age\", \"Occupation\", \"Gender\", \"NumberOfPersonVisiting\", \"DurationOfPitch\", \"ProductPitched\"]]"
   ]
  },
  {
   "cell_type": "code",
   "execution_count": 8,
   "id": "6936fc3e-70e6-4a9b-8696-d4267f0ef99c",
   "metadata": {},
   "outputs": [],
   "source": [
    "df2.columns = [\"CUSTOMER_ID\", \"AGE\", \"OCCUPATION\", \"GENDER\", \"FAMILY_SIZE\", \"DURATION_OF_STAY\", \"PACKAGE_CHOSEN\"]"
   ]
  },
  {
   "cell_type": "code",
   "execution_count": 19,
   "id": "0ed8c37b-69bb-4fe8-b2b0-7577df14246f",
   "metadata": {},
   "outputs": [
    {
     "data": {
      "text/plain": [
       "0    2916\n",
       "1    1972\n",
       "Name: GENDER, dtype: int64"
      ]
     },
     "execution_count": 19,
     "metadata": {},
     "output_type": "execute_result"
    }
   ],
   "source": [
    "df2.GENDER.value_counts()"
   ]
  },
  {
   "cell_type": "code",
   "execution_count": 20,
   "id": "c20abf6a-f78b-4b64-b8ac-4aae3cb9e4b5",
   "metadata": {},
   "outputs": [
    {
     "data": {
      "text/plain": [
       "Salaried          2368\n",
       "Small Business    2084\n",
       "Large Business     434\n",
       "Free Lancer          2\n",
       "Name: OCCUPATION, dtype: int64"
      ]
     },
     "execution_count": 20,
     "metadata": {},
     "output_type": "execute_result"
    }
   ],
   "source": [
    "df2.OCCUPATION.value_counts()"
   ]
  },
  {
   "cell_type": "code",
   "execution_count": 9,
   "id": "3a57db78-2713-4dad-ba05-1f08693f1889",
   "metadata": {},
   "outputs": [
    {
     "name": "stderr",
     "output_type": "stream",
     "text": [
      "<ipython-input-9-a2bee865120b>:1: SettingWithCopyWarning: \n",
      "A value is trying to be set on a copy of a slice from a DataFrame.\n",
      "Try using .loc[row_indexer,col_indexer] = value instead\n",
      "\n",
      "See the caveats in the documentation: https://pandas.pydata.org/pandas-docs/stable/user_guide/indexing.html#returning-a-view-versus-a-copy\n",
      "  df2[\"AGE\"] = df2[\"AGE\"].fillna(df2[\"AGE\"].mean())\n"
     ]
    }
   ],
   "source": [
    "df2[\"AGE\"] = df2[\"AGE\"].fillna(df2[\"AGE\"].mean())"
   ]
  },
  {
   "cell_type": "code",
   "execution_count": 31,
   "id": "ae49eb52-be3f-4896-bde9-f2de4fabdbfb",
   "metadata": {},
   "outputs": [
    {
     "name": "stderr",
     "output_type": "stream",
     "text": [
      "<ipython-input-31-f1cf2b518d82>:1: SettingWithCopyWarning: \n",
      "A value is trying to be set on a copy of a slice from a DataFrame.\n",
      "Try using .loc[row_indexer,col_indexer] = value instead\n",
      "\n",
      "See the caveats in the documentation: https://pandas.pydata.org/pandas-docs/stable/user_guide/indexing.html#returning-a-view-versus-a-copy\n",
      "  df2[\"OCCUPATION\"] = df2[\"OCCUPATION\"].astype('int64')\n"
     ]
    }
   ],
   "source": [
    "df2[\"OCCUPATION\"] = df2[\"OCCUPATION\"].astype('int64')"
   ]
  },
  {
   "cell_type": "code",
   "execution_count": 39,
   "id": "c06b40f6-9f4c-4472-acc6-7e0fdde71ab7",
   "metadata": {},
   "outputs": [
    {
     "name": "stderr",
     "output_type": "stream",
     "text": [
      "<ipython-input-39-0ab9d8336531>:1: SettingWithCopyWarning: \n",
      "A value is trying to be set on a copy of a slice from a DataFrame.\n",
      "Try using .loc[row_indexer,col_indexer] = value instead\n",
      "\n",
      "See the caveats in the documentation: https://pandas.pydata.org/pandas-docs/stable/user_guide/indexing.html#returning-a-view-versus-a-copy\n",
      "  df2[\"DURATION_OF_STAY\"] = df2[\"DURATION_OF_STAY\"].fillna(df2[\"DURATION_OF_STAY\"].mean())\n"
     ]
    }
   ],
   "source": [
    "df2[\"DURATION_OF_STAY\"] = df2[\"DURATION_OF_STAY\"].fillna(df2[\"DURATION_OF_STAY\"].mean())"
   ]
  },
  {
   "cell_type": "code",
   "execution_count": 71,
   "id": "b3598478-94fd-4d62-8a57-f8c2f549dd72",
   "metadata": {},
   "outputs": [],
   "source": [
    "(X_train, X_test, y_train, y_test) = train_test_split(df3.drop([\"PACKAGE_CHOSEN\"], axis=1), df3['PACKAGE_CHOSEN'], test_size = .2)"
   ]
  },
  {
   "cell_type": "code",
   "execution_count": 72,
   "id": "593c7ceb-84b1-4f27-af55-8a3fc87bd7ae",
   "metadata": {},
   "outputs": [
    {
     "name": "stdout",
     "output_type": "stream",
     "text": [
      "<class 'pandas.core.frame.DataFrame'>\n",
      "Int64Index: 3910 entries, 1745 to 1878\n",
      "Data columns (total 6 columns):\n",
      " #   Column            Non-Null Count  Dtype  \n",
      "---  ------            --------------  -----  \n",
      " 0   AGE               3910 non-null   float64\n",
      " 1   OCCUPATION        3910 non-null   float64\n",
      " 2   GENDER            3910 non-null   float64\n",
      " 3   FAMILY_SIZE       3910 non-null   float64\n",
      " 4   DURATION_OF_STAY  3910 non-null   float64\n",
      " 5   CUSTOMER_ID       3910 non-null   int64  \n",
      "dtypes: float64(5), int64(1)\n",
      "memory usage: 213.8 KB\n"
     ]
    }
   ],
   "source": [
    "X_train.info()"
   ]
  },
  {
   "cell_type": "code",
   "execution_count": 73,
   "id": "3ed9363c-0928-48d1-89a1-c669faf94e63",
   "metadata": {},
   "outputs": [
    {
     "name": "stdout",
     "output_type": "stream",
     "text": [
      "<class 'pandas.core.frame.DataFrame'>\n",
      "Int64Index: 978 entries, 1588 to 2026\n",
      "Data columns (total 6 columns):\n",
      " #   Column            Non-Null Count  Dtype  \n",
      "---  ------            --------------  -----  \n",
      " 0   AGE               978 non-null    float64\n",
      " 1   OCCUPATION        978 non-null    float64\n",
      " 2   GENDER            978 non-null    float64\n",
      " 3   FAMILY_SIZE       978 non-null    float64\n",
      " 4   DURATION_OF_STAY  978 non-null    float64\n",
      " 5   CUSTOMER_ID       978 non-null    int64  \n",
      "dtypes: float64(5), int64(1)\n",
      "memory usage: 53.5 KB\n"
     ]
    }
   ],
   "source": [
    "X_test.info()"
   ]
  },
  {
   "cell_type": "code",
   "execution_count": 74,
   "id": "fe9058d8-7682-4e05-ba4e-c07526c30c99",
   "metadata": {},
   "outputs": [],
   "source": [
    "X_train.to_csv(\"GROUP20_DATASET/FINAL_SCALED_GROUP20_TOUR_PACKAGES_TRAIN_X.csv\", index=False)\n",
    "X_test.to_csv(\"GROUP20_DATASET/FINAL_SCALED_GROUP20_TOUR_PACKAGES_TEST_X.csv\", index=False)\n",
    "y_train.to_csv(\"GROUP20_DATASET/FINAL_SCALED_GROUP20_TOUR_PACKAGES_TRAIN_Y.csv\", index=False)\n",
    "y_test.to_csv(\"GROUP20_DATASET/FINAL_SCALED_GROUP20_TOUR_PACKAGES_TEST_y.csv\", index=False)"
   ]
  },
  {
   "cell_type": "code",
   "execution_count": 75,
   "id": "058c8095-bc35-45f1-a5ff-69ff9c1ec07c",
   "metadata": {},
   "outputs": [],
   "source": [
    "df3.to_csv(\"GROUP20_DATASET/FINAL_SCALED_GROUP20_TOUR_PACKAGES_OVERALL.csv\", index=False)"
   ]
  },
  {
   "cell_type": "code",
   "execution_count": 17,
   "id": "c55dd85c-4647-4401-95bd-bcf737fc8175",
   "metadata": {},
   "outputs": [
    {
     "name": "stderr",
     "output_type": "stream",
     "text": [
      "<ipython-input-17-ce631110a131>:1: SettingWithCopyWarning: \n",
      "A value is trying to be set on a copy of a slice from a DataFrame.\n",
      "Try using .loc[row_indexer,col_indexer] = value instead\n",
      "\n",
      "See the caveats in the documentation: https://pandas.pydata.org/pandas-docs/stable/user_guide/indexing.html#returning-a-view-versus-a-copy\n",
      "  df2[\"GENDER\"] = np.where(df2[\"GENDER\"] == \"Male\", 0, 1)\n"
     ]
    }
   ],
   "source": [
    "df2[\"GENDER\"] = np.where(df2[\"GENDER\"] == \"Male\", 0, 1)"
   ]
  },
  {
   "cell_type": "code",
   "execution_count": 21,
   "id": "c03ccfa5-8530-4d67-aeaf-6687fa2b537a",
   "metadata": {},
   "outputs": [
    {
     "name": "stderr",
     "output_type": "stream",
     "text": [
      "<ipython-input-21-9466ae8ec58e>:1: SettingWithCopyWarning: \n",
      "A value is trying to be set on a copy of a slice from a DataFrame.\n",
      "Try using .loc[row_indexer,col_indexer] = value instead\n",
      "\n",
      "See the caveats in the documentation: https://pandas.pydata.org/pandas-docs/stable/user_guide/indexing.html#returning-a-view-versus-a-copy\n",
      "  df2[\"OCCUPATION\"] = np.where(df2[\"OCCUPATION\"] == \"Free Lancer\", 0 , df2[\"OCCUPATION\"])\n",
      "<ipython-input-21-9466ae8ec58e>:2: SettingWithCopyWarning: \n",
      "A value is trying to be set on a copy of a slice from a DataFrame.\n",
      "Try using .loc[row_indexer,col_indexer] = value instead\n",
      "\n",
      "See the caveats in the documentation: https://pandas.pydata.org/pandas-docs/stable/user_guide/indexing.html#returning-a-view-versus-a-copy\n",
      "  df2[\"OCCUPATION\"] = np.where(df2[\"OCCUPATION\"] == \"Salaried\", 1 , df2[\"OCCUPATION\"])\n",
      "<ipython-input-21-9466ae8ec58e>:3: SettingWithCopyWarning: \n",
      "A value is trying to be set on a copy of a slice from a DataFrame.\n",
      "Try using .loc[row_indexer,col_indexer] = value instead\n",
      "\n",
      "See the caveats in the documentation: https://pandas.pydata.org/pandas-docs/stable/user_guide/indexing.html#returning-a-view-versus-a-copy\n",
      "  df2[\"OCCUPATION\"] = np.where(df2[\"OCCUPATION\"] == \"Small Business\", 2 , df2[\"OCCUPATION\"])\n",
      "<ipython-input-21-9466ae8ec58e>:4: SettingWithCopyWarning: \n",
      "A value is trying to be set on a copy of a slice from a DataFrame.\n",
      "Try using .loc[row_indexer,col_indexer] = value instead\n",
      "\n",
      "See the caveats in the documentation: https://pandas.pydata.org/pandas-docs/stable/user_guide/indexing.html#returning-a-view-versus-a-copy\n",
      "  df2[\"OCCUPATION\"] = np.where(df2[\"OCCUPATION\"] == \"Large Business\", 3 , df2[\"OCCUPATION\"])\n"
     ]
    }
   ],
   "source": [
    "df2[\"OCCUPATION\"] = np.where(df2[\"OCCUPATION\"] == \"Free Lancer\", 0 , df2[\"OCCUPATION\"])\n",
    "df2[\"OCCUPATION\"] = np.where(df2[\"OCCUPATION\"] == \"Salaried\", 1 , df2[\"OCCUPATION\"])\n",
    "df2[\"OCCUPATION\"] = np.where(df2[\"OCCUPATION\"] == \"Small Business\", 2 , df2[\"OCCUPATION\"])\n",
    "df2[\"OCCUPATION\"] = np.where(df2[\"OCCUPATION\"] == \"Large Business\", 3 , df2[\"OCCUPATION\"])"
   ]
  },
  {
   "cell_type": "code",
   "execution_count": 22,
   "id": "482e1c95-305f-451d-86c9-d168beacbf71",
   "metadata": {},
   "outputs": [
    {
     "data": {
      "text/plain": [
       "1    2368\n",
       "2    2084\n",
       "3     434\n",
       "0       2\n",
       "Name: OCCUPATION, dtype: int64"
      ]
     },
     "execution_count": 22,
     "metadata": {},
     "output_type": "execute_result"
    }
   ],
   "source": [
    "df2[\"OCCUPATION\"].value_counts()"
   ]
  },
  {
   "cell_type": "code",
   "execution_count": 23,
   "id": "0a824642-e988-47e4-bc6b-676d6f2502b0",
   "metadata": {},
   "outputs": [
    {
     "data": {
      "text/html": [
       "<div>\n",
       "<style scoped>\n",
       "    .dataframe tbody tr th:only-of-type {\n",
       "        vertical-align: middle;\n",
       "    }\n",
       "\n",
       "    .dataframe tbody tr th {\n",
       "        vertical-align: top;\n",
       "    }\n",
       "\n",
       "    .dataframe thead th {\n",
       "        text-align: right;\n",
       "    }\n",
       "</style>\n",
       "<table border=\"1\" class=\"dataframe\">\n",
       "  <thead>\n",
       "    <tr style=\"text-align: right;\">\n",
       "      <th></th>\n",
       "      <th>CUSTOMER_ID</th>\n",
       "      <th>AGE</th>\n",
       "      <th>OCCUPATION</th>\n",
       "      <th>GENDER</th>\n",
       "      <th>FAMILY_SIZE</th>\n",
       "      <th>DURATION_OF_STAY</th>\n",
       "      <th>PACKAGE_CHOSEN</th>\n",
       "    </tr>\n",
       "  </thead>\n",
       "  <tbody>\n",
       "    <tr>\n",
       "      <th>0</th>\n",
       "      <td>200000</td>\n",
       "      <td>41.000000</td>\n",
       "      <td>1</td>\n",
       "      <td>1</td>\n",
       "      <td>3</td>\n",
       "      <td>6.0</td>\n",
       "      <td>Deluxe</td>\n",
       "    </tr>\n",
       "    <tr>\n",
       "      <th>1</th>\n",
       "      <td>200001</td>\n",
       "      <td>49.000000</td>\n",
       "      <td>1</td>\n",
       "      <td>0</td>\n",
       "      <td>3</td>\n",
       "      <td>14.0</td>\n",
       "      <td>Deluxe</td>\n",
       "    </tr>\n",
       "    <tr>\n",
       "      <th>2</th>\n",
       "      <td>200002</td>\n",
       "      <td>37.000000</td>\n",
       "      <td>0</td>\n",
       "      <td>0</td>\n",
       "      <td>3</td>\n",
       "      <td>8.0</td>\n",
       "      <td>Basic</td>\n",
       "    </tr>\n",
       "    <tr>\n",
       "      <th>3</th>\n",
       "      <td>200003</td>\n",
       "      <td>33.000000</td>\n",
       "      <td>1</td>\n",
       "      <td>1</td>\n",
       "      <td>2</td>\n",
       "      <td>9.0</td>\n",
       "      <td>Basic</td>\n",
       "    </tr>\n",
       "    <tr>\n",
       "      <th>4</th>\n",
       "      <td>200004</td>\n",
       "      <td>37.622265</td>\n",
       "      <td>2</td>\n",
       "      <td>0</td>\n",
       "      <td>2</td>\n",
       "      <td>8.0</td>\n",
       "      <td>Basic</td>\n",
       "    </tr>\n",
       "  </tbody>\n",
       "</table>\n",
       "</div>"
      ],
      "text/plain": [
       "   CUSTOMER_ID        AGE OCCUPATION  GENDER  FAMILY_SIZE  DURATION_OF_STAY  \\\n",
       "0       200000  41.000000          1       1            3               6.0   \n",
       "1       200001  49.000000          1       0            3              14.0   \n",
       "2       200002  37.000000          0       0            3               8.0   \n",
       "3       200003  33.000000          1       1            2               9.0   \n",
       "4       200004  37.622265          2       0            2               8.0   \n",
       "\n",
       "  PACKAGE_CHOSEN  \n",
       "0         Deluxe  \n",
       "1         Deluxe  \n",
       "2          Basic  \n",
       "3          Basic  \n",
       "4          Basic  "
      ]
     },
     "execution_count": 23,
     "metadata": {},
     "output_type": "execute_result"
    }
   ],
   "source": [
    "df2.head()"
   ]
  },
  {
   "cell_type": "code",
   "execution_count": 24,
   "id": "8f054b83-0a6b-4bcc-aa7b-f9219725a6af",
   "metadata": {},
   "outputs": [
    {
     "data": {
      "text/html": [
       "<div>\n",
       "<style scoped>\n",
       "    .dataframe tbody tr th:only-of-type {\n",
       "        vertical-align: middle;\n",
       "    }\n",
       "\n",
       "    .dataframe tbody tr th {\n",
       "        vertical-align: top;\n",
       "    }\n",
       "\n",
       "    .dataframe thead th {\n",
       "        text-align: right;\n",
       "    }\n",
       "</style>\n",
       "<table border=\"1\" class=\"dataframe\">\n",
       "  <thead>\n",
       "    <tr style=\"text-align: right;\">\n",
       "      <th></th>\n",
       "      <th>CUSTOMER_ID</th>\n",
       "      <th>AGE</th>\n",
       "      <th>OCCUPATION</th>\n",
       "      <th>GENDER</th>\n",
       "      <th>FAMILY_SIZE</th>\n",
       "      <th>DURATION_OF_STAY</th>\n",
       "      <th>PACKAGE_CHOSEN</th>\n",
       "    </tr>\n",
       "  </thead>\n",
       "  <tbody>\n",
       "    <tr>\n",
       "      <th>0</th>\n",
       "      <td>200000</td>\n",
       "      <td>41.000000</td>\n",
       "      <td>1</td>\n",
       "      <td>1</td>\n",
       "      <td>3</td>\n",
       "      <td>6.0</td>\n",
       "      <td>Deluxe</td>\n",
       "    </tr>\n",
       "    <tr>\n",
       "      <th>1</th>\n",
       "      <td>200001</td>\n",
       "      <td>49.000000</td>\n",
       "      <td>1</td>\n",
       "      <td>0</td>\n",
       "      <td>3</td>\n",
       "      <td>14.0</td>\n",
       "      <td>Deluxe</td>\n",
       "    </tr>\n",
       "    <tr>\n",
       "      <th>2</th>\n",
       "      <td>200002</td>\n",
       "      <td>37.000000</td>\n",
       "      <td>0</td>\n",
       "      <td>0</td>\n",
       "      <td>3</td>\n",
       "      <td>8.0</td>\n",
       "      <td>Basic</td>\n",
       "    </tr>\n",
       "    <tr>\n",
       "      <th>3</th>\n",
       "      <td>200003</td>\n",
       "      <td>33.000000</td>\n",
       "      <td>1</td>\n",
       "      <td>1</td>\n",
       "      <td>2</td>\n",
       "      <td>9.0</td>\n",
       "      <td>Basic</td>\n",
       "    </tr>\n",
       "    <tr>\n",
       "      <th>4</th>\n",
       "      <td>200004</td>\n",
       "      <td>37.622265</td>\n",
       "      <td>2</td>\n",
       "      <td>0</td>\n",
       "      <td>2</td>\n",
       "      <td>8.0</td>\n",
       "      <td>Basic</td>\n",
       "    </tr>\n",
       "  </tbody>\n",
       "</table>\n",
       "</div>"
      ],
      "text/plain": [
       "   CUSTOMER_ID        AGE OCCUPATION  GENDER  FAMILY_SIZE  DURATION_OF_STAY  \\\n",
       "0       200000  41.000000          1       1            3               6.0   \n",
       "1       200001  49.000000          1       0            3              14.0   \n",
       "2       200002  37.000000          0       0            3               8.0   \n",
       "3       200003  33.000000          1       1            2               9.0   \n",
       "4       200004  37.622265          2       0            2               8.0   \n",
       "\n",
       "  PACKAGE_CHOSEN  \n",
       "0         Deluxe  \n",
       "1         Deluxe  \n",
       "2          Basic  \n",
       "3          Basic  \n",
       "4          Basic  "
      ]
     },
     "execution_count": 24,
     "metadata": {},
     "output_type": "execute_result"
    }
   ],
   "source": [
    "df2.head()"
   ]
  },
  {
   "cell_type": "code",
   "execution_count": 45,
   "id": "09fed3f8-2888-4099-9164-04e3a74d1ee3",
   "metadata": {},
   "outputs": [
    {
     "data": {
      "text/plain": [
       "Basic           1842\n",
       "Deluxe          1732\n",
       "Standard         742\n",
       "Super Deluxe     342\n",
       "King             230\n",
       "Name: PACKAGE_CHOSEN, dtype: int64"
      ]
     },
     "execution_count": 45,
     "metadata": {},
     "output_type": "execute_result"
    }
   ],
   "source": [
    "df2[\"PACKAGE_CHOSEN\"].value_counts()"
   ]
  },
  {
   "cell_type": "code",
   "execution_count": 46,
   "id": "517a45c1-4d85-4aa3-b96a-1392a5a302bf",
   "metadata": {},
   "outputs": [
    {
     "data": {
      "text/plain": [
       "Deluxe          363\n",
       "Basic           359\n",
       "Standard        146\n",
       "Super Deluxe     61\n",
       "King             49\n",
       "Name: PACKAGE_CHOSEN, dtype: int64"
      ]
     },
     "execution_count": 46,
     "metadata": {},
     "output_type": "execute_result"
    }
   ],
   "source": [
    "y_test.value_counts()"
   ]
  },
  {
   "cell_type": "code",
   "execution_count": 38,
   "id": "25f40cf5-0475-4d23-ba20-acae703318aa",
   "metadata": {},
   "outputs": [
    {
     "data": {
      "text/plain": [
       "CUSTOMER_ID           0\n",
       "AGE                   0\n",
       "OCCUPATION            0\n",
       "GENDER                0\n",
       "FAMILY_SIZE           0\n",
       "DURATION_OF_STAY    251\n",
       "PACKAGE_CHOSEN        0\n",
       "dtype: int64"
      ]
     },
     "execution_count": 38,
     "metadata": {},
     "output_type": "execute_result"
    }
   ],
   "source": [
    "df2.isnull().sum()"
   ]
  },
  {
   "cell_type": "code",
   "execution_count": 47,
   "id": "e6a0b43f-339c-43b1-975e-3778b00835f5",
   "metadata": {},
   "outputs": [
    {
     "data": {
      "text/html": [
       "<div>\n",
       "<style scoped>\n",
       "    .dataframe tbody tr th:only-of-type {\n",
       "        vertical-align: middle;\n",
       "    }\n",
       "\n",
       "    .dataframe tbody tr th {\n",
       "        vertical-align: top;\n",
       "    }\n",
       "\n",
       "    .dataframe thead th {\n",
       "        text-align: right;\n",
       "    }\n",
       "</style>\n",
       "<table border=\"1\" class=\"dataframe\">\n",
       "  <thead>\n",
       "    <tr style=\"text-align: right;\">\n",
       "      <th></th>\n",
       "      <th>CUSTOMER_ID</th>\n",
       "      <th>AGE</th>\n",
       "      <th>OCCUPATION</th>\n",
       "      <th>GENDER</th>\n",
       "      <th>FAMILY_SIZE</th>\n",
       "      <th>DURATION_OF_STAY</th>\n",
       "      <th>PACKAGE_CHOSEN</th>\n",
       "    </tr>\n",
       "  </thead>\n",
       "  <tbody>\n",
       "    <tr>\n",
       "      <th>0</th>\n",
       "      <td>200000</td>\n",
       "      <td>41.000000</td>\n",
       "      <td>1</td>\n",
       "      <td>1</td>\n",
       "      <td>3</td>\n",
       "      <td>6.0</td>\n",
       "      <td>Deluxe</td>\n",
       "    </tr>\n",
       "    <tr>\n",
       "      <th>1</th>\n",
       "      <td>200001</td>\n",
       "      <td>49.000000</td>\n",
       "      <td>1</td>\n",
       "      <td>0</td>\n",
       "      <td>3</td>\n",
       "      <td>14.0</td>\n",
       "      <td>Deluxe</td>\n",
       "    </tr>\n",
       "    <tr>\n",
       "      <th>2</th>\n",
       "      <td>200002</td>\n",
       "      <td>37.000000</td>\n",
       "      <td>0</td>\n",
       "      <td>0</td>\n",
       "      <td>3</td>\n",
       "      <td>8.0</td>\n",
       "      <td>Basic</td>\n",
       "    </tr>\n",
       "    <tr>\n",
       "      <th>3</th>\n",
       "      <td>200003</td>\n",
       "      <td>33.000000</td>\n",
       "      <td>1</td>\n",
       "      <td>1</td>\n",
       "      <td>2</td>\n",
       "      <td>9.0</td>\n",
       "      <td>Basic</td>\n",
       "    </tr>\n",
       "    <tr>\n",
       "      <th>4</th>\n",
       "      <td>200004</td>\n",
       "      <td>37.622265</td>\n",
       "      <td>2</td>\n",
       "      <td>0</td>\n",
       "      <td>2</td>\n",
       "      <td>8.0</td>\n",
       "      <td>Basic</td>\n",
       "    </tr>\n",
       "    <tr>\n",
       "      <th>...</th>\n",
       "      <td>...</td>\n",
       "      <td>...</td>\n",
       "      <td>...</td>\n",
       "      <td>...</td>\n",
       "      <td>...</td>\n",
       "      <td>...</td>\n",
       "      <td>...</td>\n",
       "    </tr>\n",
       "    <tr>\n",
       "      <th>4883</th>\n",
       "      <td>204883</td>\n",
       "      <td>49.000000</td>\n",
       "      <td>2</td>\n",
       "      <td>0</td>\n",
       "      <td>3</td>\n",
       "      <td>9.0</td>\n",
       "      <td>Deluxe</td>\n",
       "    </tr>\n",
       "    <tr>\n",
       "      <th>4884</th>\n",
       "      <td>204884</td>\n",
       "      <td>28.000000</td>\n",
       "      <td>1</td>\n",
       "      <td>0</td>\n",
       "      <td>4</td>\n",
       "      <td>31.0</td>\n",
       "      <td>Basic</td>\n",
       "    </tr>\n",
       "    <tr>\n",
       "      <th>4885</th>\n",
       "      <td>204885</td>\n",
       "      <td>52.000000</td>\n",
       "      <td>1</td>\n",
       "      <td>1</td>\n",
       "      <td>4</td>\n",
       "      <td>17.0</td>\n",
       "      <td>Standard</td>\n",
       "    </tr>\n",
       "    <tr>\n",
       "      <th>4886</th>\n",
       "      <td>204886</td>\n",
       "      <td>19.000000</td>\n",
       "      <td>2</td>\n",
       "      <td>0</td>\n",
       "      <td>3</td>\n",
       "      <td>16.0</td>\n",
       "      <td>Basic</td>\n",
       "    </tr>\n",
       "    <tr>\n",
       "      <th>4887</th>\n",
       "      <td>204887</td>\n",
       "      <td>36.000000</td>\n",
       "      <td>1</td>\n",
       "      <td>0</td>\n",
       "      <td>4</td>\n",
       "      <td>14.0</td>\n",
       "      <td>Basic</td>\n",
       "    </tr>\n",
       "  </tbody>\n",
       "</table>\n",
       "<p>4888 rows × 7 columns</p>\n",
       "</div>"
      ],
      "text/plain": [
       "      CUSTOMER_ID        AGE  OCCUPATION  GENDER  FAMILY_SIZE  \\\n",
       "0          200000  41.000000           1       1            3   \n",
       "1          200001  49.000000           1       0            3   \n",
       "2          200002  37.000000           0       0            3   \n",
       "3          200003  33.000000           1       1            2   \n",
       "4          200004  37.622265           2       0            2   \n",
       "...           ...        ...         ...     ...          ...   \n",
       "4883       204883  49.000000           2       0            3   \n",
       "4884       204884  28.000000           1       0            4   \n",
       "4885       204885  52.000000           1       1            4   \n",
       "4886       204886  19.000000           2       0            3   \n",
       "4887       204887  36.000000           1       0            4   \n",
       "\n",
       "      DURATION_OF_STAY PACKAGE_CHOSEN  \n",
       "0                  6.0         Deluxe  \n",
       "1                 14.0         Deluxe  \n",
       "2                  8.0          Basic  \n",
       "3                  9.0          Basic  \n",
       "4                  8.0          Basic  \n",
       "...                ...            ...  \n",
       "4883               9.0         Deluxe  \n",
       "4884              31.0          Basic  \n",
       "4885              17.0       Standard  \n",
       "4886              16.0          Basic  \n",
       "4887              14.0          Basic  \n",
       "\n",
       "[4888 rows x 7 columns]"
      ]
     },
     "execution_count": 47,
     "metadata": {},
     "output_type": "execute_result"
    }
   ],
   "source": [
    "df2"
   ]
  },
  {
   "cell_type": "code",
   "execution_count": 53,
   "id": "31d14139-b790-49a5-bbda-1f2c46840c49",
   "metadata": {},
   "outputs": [
    {
     "data": {
      "text/plain": [
       "Basic           1842\n",
       "Deluxe          1732\n",
       "Standard         742\n",
       "Super Deluxe     342\n",
       "King             230\n",
       "Name: PACKAGE_CHOSEN, dtype: int64"
      ]
     },
     "execution_count": 53,
     "metadata": {},
     "output_type": "execute_result"
    }
   ],
   "source": [
    "df2[\"PACKAGE_CHOSEN\"].value_counts()"
   ]
  },
  {
   "cell_type": "code",
   "execution_count": 54,
   "id": "40c634ed-346f-4ada-aa79-a45cc320a7f6",
   "metadata": {},
   "outputs": [
    {
     "name": "stderr",
     "output_type": "stream",
     "text": [
      "<ipython-input-54-447800b6ca3e>:1: SettingWithCopyWarning: \n",
      "A value is trying to be set on a copy of a slice from a DataFrame.\n",
      "Try using .loc[row_indexer,col_indexer] = value instead\n",
      "\n",
      "See the caveats in the documentation: https://pandas.pydata.org/pandas-docs/stable/user_guide/indexing.html#returning-a-view-versus-a-copy\n",
      "  df2[\"PACKAGE_CHOSEN\"] = np.where(df2[\"PACKAGE_CHOSEN\"] == \"Basic\", 0, df2[\"PACKAGE_CHOSEN\"])\n",
      "<ipython-input-54-447800b6ca3e>:2: SettingWithCopyWarning: \n",
      "A value is trying to be set on a copy of a slice from a DataFrame.\n",
      "Try using .loc[row_indexer,col_indexer] = value instead\n",
      "\n",
      "See the caveats in the documentation: https://pandas.pydata.org/pandas-docs/stable/user_guide/indexing.html#returning-a-view-versus-a-copy\n",
      "  df2[\"PACKAGE_CHOSEN\"] = np.where(df2[\"PACKAGE_CHOSEN\"] == \"Deluxe\", 1, df2[\"PACKAGE_CHOSEN\"])\n",
      "<ipython-input-54-447800b6ca3e>:3: SettingWithCopyWarning: \n",
      "A value is trying to be set on a copy of a slice from a DataFrame.\n",
      "Try using .loc[row_indexer,col_indexer] = value instead\n",
      "\n",
      "See the caveats in the documentation: https://pandas.pydata.org/pandas-docs/stable/user_guide/indexing.html#returning-a-view-versus-a-copy\n",
      "  df2[\"PACKAGE_CHOSEN\"] = np.where(df2[\"PACKAGE_CHOSEN\"] == \"Standard\", 2, df2[\"PACKAGE_CHOSEN\"])\n",
      "<ipython-input-54-447800b6ca3e>:4: SettingWithCopyWarning: \n",
      "A value is trying to be set on a copy of a slice from a DataFrame.\n",
      "Try using .loc[row_indexer,col_indexer] = value instead\n",
      "\n",
      "See the caveats in the documentation: https://pandas.pydata.org/pandas-docs/stable/user_guide/indexing.html#returning-a-view-versus-a-copy\n",
      "  df2[\"PACKAGE_CHOSEN\"] = np.where(df2[\"PACKAGE_CHOSEN\"] == \"Super Deluxe\", 3, df2[\"PACKAGE_CHOSEN\"])\n",
      "<ipython-input-54-447800b6ca3e>:5: SettingWithCopyWarning: \n",
      "A value is trying to be set on a copy of a slice from a DataFrame.\n",
      "Try using .loc[row_indexer,col_indexer] = value instead\n",
      "\n",
      "See the caveats in the documentation: https://pandas.pydata.org/pandas-docs/stable/user_guide/indexing.html#returning-a-view-versus-a-copy\n",
      "  df2[\"PACKAGE_CHOSEN\"] = np.where(df2[\"PACKAGE_CHOSEN\"] == \"King\", 4, df2[\"PACKAGE_CHOSEN\"])\n"
     ]
    }
   ],
   "source": [
    "df2[\"PACKAGE_CHOSEN\"] = np.where(df2[\"PACKAGE_CHOSEN\"] == \"Basic\", 0, df2[\"PACKAGE_CHOSEN\"])\n",
    "df2[\"PACKAGE_CHOSEN\"] = np.where(df2[\"PACKAGE_CHOSEN\"] == \"Deluxe\", 1, df2[\"PACKAGE_CHOSEN\"])\n",
    "df2[\"PACKAGE_CHOSEN\"] = np.where(df2[\"PACKAGE_CHOSEN\"] == \"Standard\", 2, df2[\"PACKAGE_CHOSEN\"])\n",
    "df2[\"PACKAGE_CHOSEN\"] = np.where(df2[\"PACKAGE_CHOSEN\"] == \"Super Deluxe\", 3, df2[\"PACKAGE_CHOSEN\"])\n",
    "df2[\"PACKAGE_CHOSEN\"] = np.where(df2[\"PACKAGE_CHOSEN\"] == \"King\", 4, df2[\"PACKAGE_CHOSEN\"])"
   ]
  },
  {
   "cell_type": "code",
   "execution_count": 55,
   "id": "a6ee86a9-d9f8-43d9-9a7d-cc45311d17f9",
   "metadata": {},
   "outputs": [],
   "source": [
    "from sklearn.preprocessing import StandardScaler"
   ]
  },
  {
   "cell_type": "code",
   "execution_count": 56,
   "id": "1be5e72a-2107-4686-80e4-b09cb4a5748b",
   "metadata": {},
   "outputs": [],
   "source": [
    "scaler = StandardScaler()"
   ]
  },
  {
   "cell_type": "code",
   "execution_count": 64,
   "id": "70ff6c65-7750-416e-9be8-8e898485c39e",
   "metadata": {},
   "outputs": [
    {
     "data": {
      "text/html": [
       "<style>#sk-container-id-2 {color: black;background-color: white;}#sk-container-id-2 pre{padding: 0;}#sk-container-id-2 div.sk-toggleable {background-color: white;}#sk-container-id-2 label.sk-toggleable__label {cursor: pointer;display: block;width: 100%;margin-bottom: 0;padding: 0.3em;box-sizing: border-box;text-align: center;}#sk-container-id-2 label.sk-toggleable__label-arrow:before {content: \"▸\";float: left;margin-right: 0.25em;color: #696969;}#sk-container-id-2 label.sk-toggleable__label-arrow:hover:before {color: black;}#sk-container-id-2 div.sk-estimator:hover label.sk-toggleable__label-arrow:before {color: black;}#sk-container-id-2 div.sk-toggleable__content {max-height: 0;max-width: 0;overflow: hidden;text-align: left;background-color: #f0f8ff;}#sk-container-id-2 div.sk-toggleable__content pre {margin: 0.2em;color: black;border-radius: 0.25em;background-color: #f0f8ff;}#sk-container-id-2 input.sk-toggleable__control:checked~div.sk-toggleable__content {max-height: 200px;max-width: 100%;overflow: auto;}#sk-container-id-2 input.sk-toggleable__control:checked~label.sk-toggleable__label-arrow:before {content: \"▾\";}#sk-container-id-2 div.sk-estimator input.sk-toggleable__control:checked~label.sk-toggleable__label {background-color: #d4ebff;}#sk-container-id-2 div.sk-label input.sk-toggleable__control:checked~label.sk-toggleable__label {background-color: #d4ebff;}#sk-container-id-2 input.sk-hidden--visually {border: 0;clip: rect(1px 1px 1px 1px);clip: rect(1px, 1px, 1px, 1px);height: 1px;margin: -1px;overflow: hidden;padding: 0;position: absolute;width: 1px;}#sk-container-id-2 div.sk-estimator {font-family: monospace;background-color: #f0f8ff;border: 1px dotted black;border-radius: 0.25em;box-sizing: border-box;margin-bottom: 0.5em;}#sk-container-id-2 div.sk-estimator:hover {background-color: #d4ebff;}#sk-container-id-2 div.sk-parallel-item::after {content: \"\";width: 100%;border-bottom: 1px solid gray;flex-grow: 1;}#sk-container-id-2 div.sk-label:hover label.sk-toggleable__label {background-color: #d4ebff;}#sk-container-id-2 div.sk-serial::before {content: \"\";position: absolute;border-left: 1px solid gray;box-sizing: border-box;top: 0;bottom: 0;left: 50%;z-index: 0;}#sk-container-id-2 div.sk-serial {display: flex;flex-direction: column;align-items: center;background-color: white;padding-right: 0.2em;padding-left: 0.2em;position: relative;}#sk-container-id-2 div.sk-item {position: relative;z-index: 1;}#sk-container-id-2 div.sk-parallel {display: flex;align-items: stretch;justify-content: center;background-color: white;position: relative;}#sk-container-id-2 div.sk-item::before, #sk-container-id-2 div.sk-parallel-item::before {content: \"\";position: absolute;border-left: 1px solid gray;box-sizing: border-box;top: 0;bottom: 0;left: 50%;z-index: -1;}#sk-container-id-2 div.sk-parallel-item {display: flex;flex-direction: column;z-index: 1;position: relative;background-color: white;}#sk-container-id-2 div.sk-parallel-item:first-child::after {align-self: flex-end;width: 50%;}#sk-container-id-2 div.sk-parallel-item:last-child::after {align-self: flex-start;width: 50%;}#sk-container-id-2 div.sk-parallel-item:only-child::after {width: 0;}#sk-container-id-2 div.sk-dashed-wrapped {border: 1px dashed gray;margin: 0 0.4em 0.5em 0.4em;box-sizing: border-box;padding-bottom: 0.4em;background-color: white;}#sk-container-id-2 div.sk-label label {font-family: monospace;font-weight: bold;display: inline-block;line-height: 1.2em;}#sk-container-id-2 div.sk-label-container {text-align: center;}#sk-container-id-2 div.sk-container {/* jupyter's `normalize.less` sets `[hidden] { display: none; }` but bootstrap.min.css set `[hidden] { display: none !important; }` so we also need the `!important` here to be able to override the default hidden behavior on the sphinx rendered scikit-learn.org. See: https://github.com/scikit-learn/scikit-learn/issues/21755 */display: inline-block !important;position: relative;}#sk-container-id-2 div.sk-text-repr-fallback {display: none;}</style><div id=\"sk-container-id-2\" class=\"sk-top-container\"><div class=\"sk-text-repr-fallback\"><pre>StandardScaler()</pre><b>In a Jupyter environment, please rerun this cell to show the HTML representation or trust the notebook. <br />On GitHub, the HTML representation is unable to render, please try loading this page with nbviewer.org.</b></div><div class=\"sk-container\" hidden><div class=\"sk-item\"><div class=\"sk-estimator sk-toggleable\"><input class=\"sk-toggleable__control sk-hidden--visually\" id=\"sk-estimator-id-2\" type=\"checkbox\" checked><label for=\"sk-estimator-id-2\" class=\"sk-toggleable__label sk-toggleable__label-arrow\">StandardScaler</label><div class=\"sk-toggleable__content\"><pre>StandardScaler()</pre></div></div></div></div></div>"
      ],
      "text/plain": [
       "StandardScaler()"
      ]
     },
     "execution_count": 64,
     "metadata": {},
     "output_type": "execute_result"
    }
   ],
   "source": [
    "scaler.fit(df2.drop([\"CUSTOMER_ID\", \"PACKAGE_CHOSEN\"], axis=1))"
   ]
  },
  {
   "cell_type": "code",
   "execution_count": 66,
   "id": "5abf288c-df68-4c9a-9fa8-fabf88ee1745",
   "metadata": {},
   "outputs": [],
   "source": [
    "df3 = pd.DataFrame(scaler.transform(df2.drop([\"CUSTOMER_ID\", \"PACKAGE_CHOSEN\"], axis=1)))"
   ]
  },
  {
   "cell_type": "code",
   "execution_count": 68,
   "id": "e1c80698-5fe6-4a9d-bb5f-9e84c58b2e53",
   "metadata": {},
   "outputs": [],
   "source": [
    "df3.columns = [\"AGE\", \"OCCUPATION\", \"GENDER\", \"FAMILY_SIZE\", \"DURATION_OF_STAY\"]"
   ]
  },
  {
   "cell_type": "code",
   "execution_count": 69,
   "id": "a8574080-43e0-4aad-8e49-1991ee6cc025",
   "metadata": {},
   "outputs": [],
   "source": [
    "df3[\"CUSTOMER_ID\"] = df2[\"CUSTOMER_ID\"]\n",
    "df3[\"PACKAGE_CHOSEN\"] = df2[\"PACKAGE_CHOSEN\"]"
   ]
  },
  {
   "cell_type": "code",
   "execution_count": 70,
   "id": "5c2907c6-ef58-44a4-addb-c467270864c4",
   "metadata": {},
   "outputs": [
    {
     "data": {
      "text/html": [
       "<div>\n",
       "<style scoped>\n",
       "    .dataframe tbody tr th:only-of-type {\n",
       "        vertical-align: middle;\n",
       "    }\n",
       "\n",
       "    .dataframe tbody tr th {\n",
       "        vertical-align: top;\n",
       "    }\n",
       "\n",
       "    .dataframe thead th {\n",
       "        text-align: right;\n",
       "    }\n",
       "</style>\n",
       "<table border=\"1\" class=\"dataframe\">\n",
       "  <thead>\n",
       "    <tr style=\"text-align: right;\">\n",
       "      <th></th>\n",
       "      <th>AGE</th>\n",
       "      <th>OCCUPATION</th>\n",
       "      <th>GENDER</th>\n",
       "      <th>FAMILY_SIZE</th>\n",
       "      <th>DURATION_OF_STAY</th>\n",
       "      <th>CUSTOMER_ID</th>\n",
       "      <th>PACKAGE_CHOSEN</th>\n",
       "    </tr>\n",
       "  </thead>\n",
       "  <tbody>\n",
       "    <tr>\n",
       "      <th>0</th>\n",
       "      <td>3.712822e-01</td>\n",
       "      <td>-0.933833</td>\n",
       "      <td>1.216019</td>\n",
       "      <td>0.130966</td>\n",
       "      <td>-1.143871</td>\n",
       "      <td>200000</td>\n",
       "      <td>1</td>\n",
       "    </tr>\n",
       "    <tr>\n",
       "      <th>1</th>\n",
       "      <td>1.250646e+00</td>\n",
       "      <td>-0.933833</td>\n",
       "      <td>-0.822356</td>\n",
       "      <td>0.130966</td>\n",
       "      <td>-0.179681</td>\n",
       "      <td>200001</td>\n",
       "      <td>1</td>\n",
       "    </tr>\n",
       "    <tr>\n",
       "      <th>2</th>\n",
       "      <td>-6.839967e-02</td>\n",
       "      <td>-2.481146</td>\n",
       "      <td>-0.822356</td>\n",
       "      <td>0.130966</td>\n",
       "      <td>-0.902823</td>\n",
       "      <td>200002</td>\n",
       "      <td>0</td>\n",
       "    </tr>\n",
       "    <tr>\n",
       "      <th>3</th>\n",
       "      <td>-5.080815e-01</td>\n",
       "      <td>-0.933833</td>\n",
       "      <td>1.216019</td>\n",
       "      <td>-1.248694</td>\n",
       "      <td>-0.782299</td>\n",
       "      <td>200003</td>\n",
       "      <td>0</td>\n",
       "    </tr>\n",
       "    <tr>\n",
       "      <th>4</th>\n",
       "      <td>-7.810318e-16</td>\n",
       "      <td>0.613481</td>\n",
       "      <td>-0.822356</td>\n",
       "      <td>-1.248694</td>\n",
       "      <td>-0.902823</td>\n",
       "      <td>200004</td>\n",
       "      <td>0</td>\n",
       "    </tr>\n",
       "  </tbody>\n",
       "</table>\n",
       "</div>"
      ],
      "text/plain": [
       "            AGE  OCCUPATION    GENDER  FAMILY_SIZE  DURATION_OF_STAY  \\\n",
       "0  3.712822e-01   -0.933833  1.216019     0.130966         -1.143871   \n",
       "1  1.250646e+00   -0.933833 -0.822356     0.130966         -0.179681   \n",
       "2 -6.839967e-02   -2.481146 -0.822356     0.130966         -0.902823   \n",
       "3 -5.080815e-01   -0.933833  1.216019    -1.248694         -0.782299   \n",
       "4 -7.810318e-16    0.613481 -0.822356    -1.248694         -0.902823   \n",
       "\n",
       "   CUSTOMER_ID PACKAGE_CHOSEN  \n",
       "0       200000              1  \n",
       "1       200001              1  \n",
       "2       200002              0  \n",
       "3       200003              0  \n",
       "4       200004              0  "
      ]
     },
     "execution_count": 70,
     "metadata": {},
     "output_type": "execute_result"
    }
   ],
   "source": [
    "df3.head()"
   ]
  },
  {
   "cell_type": "code",
   "execution_count": null,
   "id": "7b55fe0a-29ca-4efe-9c8a-a11c8667481e",
   "metadata": {},
   "outputs": [],
   "source": []
  }
 ],
 "metadata": {
  "kernelspec": {
   "display_name": "Python 3",
   "language": "python",
   "name": "python3"
  },
  "language_info": {
   "codemirror_mode": {
    "name": "ipython",
    "version": 3
   },
   "file_extension": ".py",
   "mimetype": "text/x-python",
   "name": "python",
   "nbconvert_exporter": "python",
   "pygments_lexer": "ipython3",
   "version": "3.8.9"
  }
 },
 "nbformat": 4,
 "nbformat_minor": 5
}
