{
 "cells": [
  {
   "cell_type": "code",
   "execution_count": 28,
   "id": "43d2267e-a270-4436-b7f4-d621c28cfbd5",
   "metadata": {},
   "outputs": [],
   "source": [
    "from sklearn.ensemble import RandomForestClassifier\n",
    "import pandas as pd"
   ]
  },
  {
   "cell_type": "code",
   "execution_count": 33,
   "id": "e47f8907-a82d-46ce-a8d8-38784a317628",
   "metadata": {},
   "outputs": [],
   "source": [
    "X_train = pd.read_csv(\"GROUP20_DATASET/FINAL_GROUP20_TOUR_PACKAGES_TRAIN_X.csv\")\n",
    "X_test = pd.read_csv(\"GROUP20_DATASET/FINAL_GROUP20_TOUR_PACKAGES_TEST_X.csv\")\n",
    "y_train = pd.read_csv(\"GROUP20_DATASET/FINAL_GROUP20_TOUR_PACKAGES_TRAIN_Y.csv\")\n",
    "y_test = pd.read_csv(\"GROUP20_DATASET/FINAL_GROUP20_TOUR_PACKAGES_TEST_Y.csv\")"
   ]
  },
  {
   "cell_type": "code",
   "execution_count": 34,
   "id": "5d1e3d01-78ff-4a6b-b273-a1b33f907ec4",
   "metadata": {},
   "outputs": [
    {
     "name": "stderr",
     "output_type": "stream",
     "text": [
      "/Users/bharatwaajshankar/Library/Python/3.8/lib/python/site-packages/sklearn/neural_network/_multilayer_perceptron.py:1118: DataConversionWarning: A column-vector y was passed when a 1d array was expected. Please change the shape of y to (n_samples, ), for example using ravel().\n",
      "  y = column_or_1d(y, warn=True)\n"
     ]
    }
   ],
   "source": [
    "clf = MLPClassifier(random_state=1, max_iter=500).fit(X_train.drop(['CUSTOMER_ID'], axis=1), y_train)"
   ]
  },
  {
   "cell_type": "code",
   "execution_count": 54,
   "id": "722d3dfe-95a0-4272-b84f-8d890ee826e7",
   "metadata": {},
   "outputs": [
    {
     "name": "stderr",
     "output_type": "stream",
     "text": [
      "<ipython-input-54-640d719dc0d4>:1: DataConversionWarning: A column-vector y was passed when a 1d array was expected. Please change the shape of y to (n_samples,), for example using ravel().\n",
      "  clf = RandomForestClassifier(max_depth=8, random_state=0).fit(X_train.drop(['CUSTOMER_ID'], axis=1), y_train)\n"
     ]
    }
   ],
   "source": [
    "clf = RandomForestClassifier(max_depth=8, random_state=0).fit(X_train.drop(['CUSTOMER_ID'], axis=1), y_train)"
   ]
  },
  {
   "cell_type": "code",
   "execution_count": 57,
   "id": "cb5ce15e-057d-46a3-b510-644b3117f05c",
   "metadata": {},
   "outputs": [
    {
     "data": {
      "text/plain": [
       "array([[5.33474262e-01, 3.57222196e-01, 8.66197183e-04, 1.05233235e-01,\n",
       "        3.20410952e-03],\n",
       "       [5.07551987e-01, 3.45376564e-01, 4.28678259e-04, 1.43933437e-01,\n",
       "        2.70933364e-03],\n",
       "       [3.60849327e-01, 4.28939493e-01, 5.13654207e-03, 1.82823824e-01,\n",
       "        2.22508137e-02],\n",
       "       ...,\n",
       "       [2.32683928e-01, 4.82610661e-01, 4.86083649e-02, 1.36769128e-01,\n",
       "        9.93279183e-02],\n",
       "       [1.52470410e-01, 6.11113993e-01, 3.87365331e-02, 1.08763031e-01,\n",
       "        8.89160332e-02],\n",
       "       [9.16565705e-01, 5.35941700e-02, 0.00000000e+00, 2.96215454e-02,\n",
       "        2.18579235e-04]])"
      ]
     },
     "execution_count": 57,
     "metadata": {},
     "output_type": "execute_result"
    }
   ],
   "source": [
    "clf.predict_proba(X_test.drop(['CUSTOMER_ID'], axis=1))"
   ]
  },
  {
   "cell_type": "code",
   "execution_count": 59,
   "id": "56025463-dac7-4726-bb69-485161250c45",
   "metadata": {},
   "outputs": [],
   "source": [
    "y_pred = clf.predict(X_test.drop(['CUSTOMER_ID'], axis=1))"
   ]
  },
  {
   "cell_type": "code",
   "execution_count": 60,
   "id": "968c869e-14c0-4a19-a062-11b59e951518",
   "metadata": {},
   "outputs": [],
   "source": [
    "from sklearn.metrics import classification_report"
   ]
  },
  {
   "cell_type": "code",
   "execution_count": 61,
   "id": "870ed622-f4fa-4b1b-a0b6-f85a49987efd",
   "metadata": {},
   "outputs": [
    {
     "name": "stdout",
     "output_type": "stream",
     "text": [
      "              precision    recall  f1-score   support\n",
      "\n",
      "       Basic       0.59      0.73      0.65       359\n",
      "      Deluxe       0.52      0.61      0.56       363\n",
      "        King       0.38      0.06      0.11        49\n",
      "    Standard       0.69      0.18      0.29       146\n",
      "Super Deluxe       0.55      0.48      0.51        61\n",
      "\n",
      "    accuracy                           0.56       978\n",
      "   macro avg       0.54      0.41      0.42       978\n",
      "weighted avg       0.56      0.56      0.53       978\n",
      "\n"
     ]
    }
   ],
   "source": [
    "print(classification_report(y_test, y_pred))"
   ]
  },
  {
   "cell_type": "code",
   "execution_count": 62,
   "id": "cb7a4b4a-62d8-43af-9431-205d6aa0da8b",
   "metadata": {},
   "outputs": [],
   "source": [
    "from joblib import dump, load"
   ]
  },
  {
   "cell_type": "code",
   "execution_count": 63,
   "id": "8bde0ade-e07f-449a-9b68-4aa83128d49b",
   "metadata": {},
   "outputs": [
    {
     "data": {
      "text/plain": [
       "['model/RF003.joblib']"
      ]
     },
     "execution_count": 63,
     "metadata": {},
     "output_type": "execute_result"
    }
   ],
   "source": [
    "dump(clf, 'model/RF003.joblib')"
   ]
  },
  {
   "cell_type": "code",
   "execution_count": 65,
   "id": "c658db08-ec92-48b3-a63b-d9271c46884b",
   "metadata": {},
   "outputs": [
    {
     "data": {
      "text/html": [
       "<div>\n",
       "<style scoped>\n",
       "    .dataframe tbody tr th:only-of-type {\n",
       "        vertical-align: middle;\n",
       "    }\n",
       "\n",
       "    .dataframe tbody tr th {\n",
       "        vertical-align: top;\n",
       "    }\n",
       "\n",
       "    .dataframe thead th {\n",
       "        text-align: right;\n",
       "    }\n",
       "</style>\n",
       "<table border=\"1\" class=\"dataframe\">\n",
       "  <thead>\n",
       "    <tr style=\"text-align: right;\">\n",
       "      <th></th>\n",
       "      <th>AGE</th>\n",
       "      <th>OCCUPATION</th>\n",
       "      <th>GENDER</th>\n",
       "      <th>FAMILY_SIZE</th>\n",
       "      <th>DURATION_OF_STAY</th>\n",
       "    </tr>\n",
       "  </thead>\n",
       "  <tbody>\n",
       "    <tr>\n",
       "      <th>0</th>\n",
       "      <td>28.0</td>\n",
       "      <td>2</td>\n",
       "      <td>1</td>\n",
       "      <td>3</td>\n",
       "      <td>15.0</td>\n",
       "    </tr>\n",
       "  </tbody>\n",
       "</table>\n",
       "</div>"
      ],
      "text/plain": [
       "    AGE  OCCUPATION  GENDER  FAMILY_SIZE  DURATION_OF_STAY\n",
       "0  28.0           2       1            3              15.0"
      ]
     },
     "execution_count": 65,
     "metadata": {},
     "output_type": "execute_result"
    }
   ],
   "source": [
    "X_test.drop(['CUSTOMER_ID'], axis=1).head(1)"
   ]
  },
  {
   "cell_type": "code",
   "execution_count": 66,
   "id": "a3899594-ea0a-419a-97d4-ba3b0dd245c3",
   "metadata": {},
   "outputs": [
    {
     "data": {
      "text/plain": [
       "array(['Basic'], dtype=object)"
      ]
     },
     "execution_count": 66,
     "metadata": {},
     "output_type": "execute_result"
    }
   ],
   "source": [
    "clf.predict(X_test.drop(['CUSTOMER_ID'], axis=1).head(1))"
   ]
  },
  {
   "cell_type": "code",
   "execution_count": 73,
   "id": "bf1c9e93-76c8-4093-a7e6-0955890ba109",
   "metadata": {},
   "outputs": [
    {
     "name": "stderr",
     "output_type": "stream",
     "text": [
      "/Users/bharatwaajshankar/Library/Python/3.8/lib/python/site-packages/sklearn/base.py:450: UserWarning: X does not have valid feature names, but RandomForestClassifier was fitted with feature names\n",
      "  warnings.warn(\n"
     ]
    },
    {
     "data": {
      "text/plain": [
       "array(['Basic'], dtype=object)"
      ]
     },
     "execution_count": 73,
     "metadata": {},
     "output_type": "execute_result"
    }
   ],
   "source": [
    "clf.predict([[28, 2, 1, 3, 15]])"
   ]
  },
  {
   "cell_type": "code",
   "execution_count": 93,
   "id": "6065fa3d-5153-46dd-917d-59d05eaecefa",
   "metadata": {},
   "outputs": [],
   "source": [
    "from joblib import dump, load\n",
    "from google.cloud import storage\n",
    "import pprint\n",
    "from io import BytesIO\n",
    "\n",
    "PROJECT_ID = 'serverless-bnb'\n",
    "ML_MODEL_BUCKET = 'serverless-group20-ml-models'\n",
    "MODEL_NAME = \"RF003.joblib\"\n",
    "\n",
    "# Initialize the storage client\n",
    "storage_client = storage.Client(project=PROJECT_ID)\n",
    "\n",
    "def get_recommendations(data):\n",
    "    \n",
    "    \"\"\"\n",
    "        @author Bharatwaaj Shankaranarayanan\n",
    "        @function get_recommendations\n",
    "        @description This function saves the reviews data in the reviews data model\n",
    "        @params data\n",
    "        @returns response (JSON)\n",
    "    \"\"\"\n",
    "    \n",
    "    print(\"request_data\", data)\n",
    "    \n",
    "    # Get recommendations\n",
    "    try:\n",
    "        bucket = storage_client.get_bucket(ML_MODEL_BUCKET)\n",
    "        blob = bucket.get_blob(MODEL_NAME)\n",
    "        model_file = BytesIO()\n",
    "        blob.download_to_filename(model_file)\n",
    "        clf = load(model_file) \n",
    "        \n",
    "        result = clf.predict([[float(data[\"AGE\"]), float(data[\"OCCUPATION\"]), float(data[\"GENDER\"]), float(data[\"FAMILY_SIZE\"]), float(data[\"DURATION_OF_STAY\"])]])\n",
    "        \n",
    "        return {\n",
    "            \"recommendation\": result[0],\n",
    "            \"success\": True\n",
    "        }\n",
    "        \n",
    "    except Exception as e:\n",
    "        pprint(e)"
   ]
  },
  {
   "cell_type": "code",
   "execution_count": 94,
   "id": "67cfc6be-db11-4c1c-b93d-0a819d8f264b",
   "metadata": {},
   "outputs": [
    {
     "name": "stdout",
     "output_type": "stream",
     "text": [
      "request_data {'AGE': '25', 'OCCUPATION': 1, 'GENDER': 0, 'FAMILY_SIZE': '5', 'DURATION_OF_STAY': '10'}\n"
     ]
    },
    {
     "ename": "TypeError",
     "evalue": "'module' object is not callable",
     "output_type": "error",
     "traceback": [
      "\u001b[0;31m---------------------------------------------------------------------------\u001b[0m",
      "\u001b[0;31mFileNotFoundError\u001b[0m                         Traceback (most recent call last)",
      "\u001b[0;32m<ipython-input-93-070f8699cf39>\u001b[0m in \u001b[0;36mget_recommendations\u001b[0;34m(data)\u001b[0m\n\u001b[1;32m     27\u001b[0m         \u001b[0mblob\u001b[0m \u001b[0;34m=\u001b[0m \u001b[0mbucket\u001b[0m\u001b[0;34m.\u001b[0m\u001b[0mget_blob\u001b[0m\u001b[0;34m(\u001b[0m\u001b[0mMODEL_NAME\u001b[0m\u001b[0;34m)\u001b[0m\u001b[0;34m\u001b[0m\u001b[0;34m\u001b[0m\u001b[0m\n\u001b[0;32m---> 28\u001b[0;31m         \u001b[0mblob\u001b[0m\u001b[0;34m.\u001b[0m\u001b[0mdownload_to_filename\u001b[0m\u001b[0;34m(\u001b[0m\u001b[0;34m\"tmp/\"\u001b[0m \u001b[0;34m+\u001b[0m \u001b[0mMODEL_NAME\u001b[0m\u001b[0;34m)\u001b[0m\u001b[0;34m\u001b[0m\u001b[0;34m\u001b[0m\u001b[0m\n\u001b[0m\u001b[1;32m     29\u001b[0m         \u001b[0mclf\u001b[0m \u001b[0;34m=\u001b[0m \u001b[0mload\u001b[0m\u001b[0;34m(\u001b[0m\u001b[0;34m'tmp/'\u001b[0m \u001b[0;34m+\u001b[0m \u001b[0mMODEL_NAME\u001b[0m\u001b[0;34m)\u001b[0m\u001b[0;34m\u001b[0m\u001b[0;34m\u001b[0m\u001b[0m\n",
      "\u001b[0;32m~/Library/Python/3.8/lib/python/site-packages/google/cloud/storage/blob.py\u001b[0m in \u001b[0;36mdownload_to_filename\u001b[0;34m(self, filename, client, start, end, raw_download, if_etag_match, if_etag_not_match, if_generation_match, if_generation_not_match, if_metageneration_match, if_metageneration_not_match, timeout, checksum, retry)\u001b[0m\n\u001b[1;32m   1268\u001b[0m         \u001b[0;32mtry\u001b[0m\u001b[0;34m:\u001b[0m\u001b[0;34m\u001b[0m\u001b[0;34m\u001b[0m\u001b[0m\n\u001b[0;32m-> 1269\u001b[0;31m             \u001b[0;32mwith\u001b[0m \u001b[0mopen\u001b[0m\u001b[0;34m(\u001b[0m\u001b[0mfilename\u001b[0m\u001b[0;34m,\u001b[0m \u001b[0;34m\"wb\"\u001b[0m\u001b[0;34m)\u001b[0m \u001b[0;32mas\u001b[0m \u001b[0mfile_obj\u001b[0m\u001b[0;34m:\u001b[0m\u001b[0;34m\u001b[0m\u001b[0;34m\u001b[0m\u001b[0m\n\u001b[0m\u001b[1;32m   1270\u001b[0m                 client.download_blob_to_file(\n",
      "\u001b[0;31mFileNotFoundError\u001b[0m: [Errno 2] No such file or directory: 'tmp/RF003.joblib'",
      "\nDuring handling of the above exception, another exception occurred:\n",
      "\u001b[0;31mTypeError\u001b[0m                                 Traceback (most recent call last)",
      "\u001b[0;32m<ipython-input-94-493ee53493ff>\u001b[0m in \u001b[0;36m<module>\u001b[0;34m\u001b[0m\n\u001b[0;32m----> 1\u001b[0;31m get_recommendations(\n\u001b[0m\u001b[1;32m      2\u001b[0m     \u001b[0;34m{\u001b[0m\u001b[0;34m\"AGE\"\u001b[0m\u001b[0;34m:\u001b[0m \u001b[0;34m\"25\"\u001b[0m\u001b[0;34m,\u001b[0m \u001b[0;34m\"OCCUPATION\"\u001b[0m\u001b[0;34m:\u001b[0m \u001b[0;36m1\u001b[0m\u001b[0;34m,\u001b[0m \u001b[0;34m\"GENDER\"\u001b[0m\u001b[0;34m:\u001b[0m \u001b[0;36m0\u001b[0m\u001b[0;34m,\u001b[0m \u001b[0;34m\"FAMILY_SIZE\"\u001b[0m\u001b[0;34m:\u001b[0m \u001b[0;34m\"5\"\u001b[0m\u001b[0;34m,\u001b[0m \u001b[0;34m\"DURATION_OF_STAY\"\u001b[0m\u001b[0;34m:\u001b[0m \u001b[0;34m\"10\"\u001b[0m\u001b[0;34m}\u001b[0m\u001b[0;34m\u001b[0m\u001b[0;34m\u001b[0m\u001b[0m\n\u001b[1;32m      3\u001b[0m )\n",
      "\u001b[0;32m<ipython-input-93-070f8699cf39>\u001b[0m in \u001b[0;36mget_recommendations\u001b[0;34m(data)\u001b[0m\n\u001b[1;32m     37\u001b[0m \u001b[0;34m\u001b[0m\u001b[0m\n\u001b[1;32m     38\u001b[0m     \u001b[0;32mexcept\u001b[0m \u001b[0mException\u001b[0m \u001b[0;32mas\u001b[0m \u001b[0me\u001b[0m\u001b[0;34m:\u001b[0m\u001b[0;34m\u001b[0m\u001b[0;34m\u001b[0m\u001b[0m\n\u001b[0;32m---> 39\u001b[0;31m         \u001b[0mpprint\u001b[0m\u001b[0;34m(\u001b[0m\u001b[0me\u001b[0m\u001b[0;34m)\u001b[0m\u001b[0;34m\u001b[0m\u001b[0;34m\u001b[0m\u001b[0m\n\u001b[0m",
      "\u001b[0;31mTypeError\u001b[0m: 'module' object is not callable"
     ]
    }
   ],
   "source": [
    "get_recommendations(\n",
    "    {\"AGE\": \"25\", \"OCCUPATION\": 1, \"GENDER\": 0, \"FAMILY_SIZE\": \"5\", \"DURATION_OF_STAY\": \"10\"}\n",
    ")"
   ]
  },
  {
   "cell_type": "code",
   "execution_count": null,
   "id": "98844bb4-3202-49c7-ac53-d940ff59bb4c",
   "metadata": {},
   "outputs": [],
   "source": []
  }
 ],
 "metadata": {
  "kernelspec": {
   "display_name": "Python 3",
   "language": "python",
   "name": "python3"
  },
  "language_info": {
   "codemirror_mode": {
    "name": "ipython",
    "version": 3
   },
   "file_extension": ".py",
   "mimetype": "text/x-python",
   "name": "python",
   "nbconvert_exporter": "python",
   "pygments_lexer": "ipython3",
   "version": "3.8.9"
  }
 },
 "nbformat": 4,
 "nbformat_minor": 5
}
